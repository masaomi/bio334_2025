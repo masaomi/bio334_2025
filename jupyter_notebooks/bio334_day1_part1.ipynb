{
 "cells": [
  {
   "cell_type": "markdown",
   "metadata": {
    "slideshow": {
     "slide_type": "slide"
    }
   },
   "source": [
    "# Bio334 Practical Bioinformatics\n",
    "\n",
    "The 2nd module, 14-16, May, 2025\n",
    "\n",
    "## Masaomi Hatakeyama\n",
    "- GitHab https://github.com/masaomi/bio334_2025\n",
    "- TAs: Narjes Yousefi,  Kenji Yip Tong"
   ]
  },
  {
   "cell_type": "markdown",
   "metadata": {
    "slideshow": {
     "slide_type": "slide"
    }
   },
   "source": [
    "# Related courses\n",
    "\n",
    "- Bio373 Next Generation Sequencing for Evolutionary Functional Genomics\n",
    "- Bio609 Introduction to UNIX/Linux and Bash Scripting\n",
    "- Bio610 Next-Generation Sequencing for Model and Non-Model Species"
   ]
  },
  {
   "cell_type": "markdown",
   "metadata": {
    "slideshow": {
     "slide_type": "subslide"
    }
   },
   "source": [
    "# FGCZ courses\n",
    "\n",
    "https://fgcz.ch/education.html\n",
    "\n",
    "- Bio680 DNA Next Generation Sequencing\n",
    "- Bio675 Transcriptomics Courses, includes single cell transcriptomics\n",
    "- Bioinformatics Training, Integrative-Omics Courses, etc.\n"
   ]
  },
  {
   "cell_type": "code",
   "execution_count": null,
   "metadata": {
    "slideshow": {
     "slide_type": "notes"
    }
   },
   "outputs": [],
   "source": [
    "import IPython.display\n",
    "IPython.display.Audio(\"voice/introduction.mp3\")\n"
   ]
  },
  {
   "cell_type": "markdown",
   "metadata": {
    "slideshow": {
     "slide_type": "notes"
    }
   },
   "source": [
    "Hello, my name is Masaomi Hatakeyama. This is BIO334: Practical Bioinformatics, the second module of the course. I am the lecturer for this module.\n",
    "\n",
    "You can access all the necessary data from the GitHub repository:\n",
    "\n",
    "https://github.com/masaomi/bio334_2025\n",
    "\n",
    "You may not be familiar with GitHub or Git commands, but please just follow the instructions. If you have any questions, feel free to post them in the Slack channel.\n",
    "\n",
    "Now, let’s get started. Please proceed to the next cell."
   ]
  },
  {
   "cell_type": "markdown",
   "metadata": {
    "slideshow": {
     "slide_type": "slide"
    }
   },
   "source": [
    "# How to download from GitHub\n",
    "\n",
    "- Start \"Terminal\"\n",
    "- Type the following command\n",
    "\n",
    "```\n",
    "$ git clone https://github.com/masaomi/bio334_2025\n",
    "```\n"
   ]
  },
  {
   "cell_type": "markdown",
   "metadata": {
    "slideshow": {
     "slide_type": "slide"
    }
   },
   "source": [
    "# GitHub/GitLab\n",
    "\n",
    "<div class=\"row\">\n",
    "  <div class=\"column\" align=\"center\">\n",
    "    <img src=\"https://raw.githubusercontent.com/masaomi/bio334_2025/main/jupyter_notebooks/png/whatisgithub1.png\" width=\"600px\">\n",
    "  </div>\n",
    "  <div class=\"column\" align=\"center\">\n",
    "    <img src=\"https://raw.githubusercontent.com/masaomi/bio334_2025/main/jupyter_notebooks/png/whatisgithub2.png\" width=\"800px\">\n",
    "  </div>\n",
    "</div>\n",
    "\n",
    "<span class=\"small\">By David Whitaker, https://www.coursereport.com/blog/what-is-github</span>"
   ]
  },
  {
   "cell_type": "markdown",
   "metadata": {
    "slideshow": {
     "slide_type": "subslide"
    }
   },
   "source": [
    "\n",
    "![flow](png/start_terminal.png)"
   ]
  },
  {
   "cell_type": "markdown",
   "metadata": {
    "slideshow": {
     "slide_type": "slide"
    }
   },
   "source": [
    "\n",
    "Start Jupyter Lab/Jupyter Notebook\n",
    "```\n",
    " $ git clone https://github.com/masaomi/bio334_2025\n",
    " $ cd bio334_2025\n",
    " $ jupyter lab\n",
    " or\n",
    " $ jupyter notebook\n",
    "```\n"
   ]
  },
  {
   "cell_type": "markdown",
   "metadata": {
    "slideshow": {
     "slide_type": "notes"
    }
   },
   "source": [
    "# Copy Jupyter notebooks\n",
    "\n",
    "\n",
    "* Start terminal\n",
    "```\n",
    " $ git clone https://github.com/masaomi/bio334_2025 \n",
    "```\n",
    " \n",
    "* Update Jupyter notebooks (in the local repository)\n",
    "```\n",
    " $ git pull\n",
    "```\n"
   ]
  },
  {
   "cell_type": "code",
   "execution_count": null,
   "metadata": {
    "slideshow": {
     "slide_type": "notes"
    }
   },
   "outputs": [],
   "source": [
    "IPython.display.Audio(\"voice/git_clone.mp3\")"
   ]
  },
  {
   "cell_type": "markdown",
   "metadata": {
    "slideshow": {
     "slide_type": "notes"
    }
   },
   "source": [
    "After you start the Jupyter environment, you can see the \"Terminal\" icon on the right side of the window. Clicking the Terminal icon, start the Terminal window.\n",
    "\n",
    "Then, type the following command:\n",
    "```\n",
    "git clone https://github.com/masaomi/bio334_2025\n",
    "```\n",
    "After you download all the data, you can see the new folder in the left side of the window."
   ]
  },
  {
   "cell_type": "markdown",
   "metadata": {
    "slideshow": {
     "slide_type": "slide"
    }
   },
   "source": [
    "# How to use Jupyter notebook\n",
    "\n",
    "- You can run this *cell* by typing CTRL+ENTER or SHIFT+ENTER.\n",
    "    - There are two types of cell: **markdown**, **python code**\n",
    "- Double click goes into the edit mode\n",
    "- Down arrow key moves onto the next cell\n"
   ]
  },
  {
   "cell_type": "markdown",
   "metadata": {
    "slideshow": {
     "slide_type": "subslide"
    }
   },
   "source": [
    "- *Restart* when stuck\n",
    "- You can edit and save your notes, and take it back to home\n",
    "- If you install Jupyter in your PC, .ipynb file can work as well\n",
    "- I do not recommend using Jupyter notebook/lab when you run a heavy Python calculation\n"
   ]
  },
  {
   "cell_type": "code",
   "execution_count": null,
   "metadata": {
    "slideshow": {
     "slide_type": "notes"
    }
   },
   "outputs": [],
   "source": [
    "IPython.display.Audio(\"voice/jupyter_notebook.mp3\")"
   ]
  },
  {
   "cell_type": "markdown",
   "metadata": {
    "slideshow": {
     "slide_type": "notes"
    }
   },
   "source": [
    "In the downloaded GitHab folder, you will see a lot of Jupyter notebook files.\n",
    "\n",
    "Just let me quickly introduce how to use the Jupyter notebook here.\n",
    "\n",
    "In the Jupyter notebook, there are two types of cells: one is markdown cell, and the other one is Python code.\n",
    "\n",
    "Double-clicking or hit the Enter key, goes into the edit mode. You can edit any markdown documents and Python code as you like. **Ctrl+Enter** (or **Shift+Enter**) executes the Python code.\n",
    "\n",
    "You can see a sample Python code in the next cell. Selecting the next cell, and **Ctrl + Enter** executes the python code. Then, you will get the result under the cell. In the edit mode, **Ctrl+Enter** key goes back to the view mode again.\n"
   ]
  },
  {
   "cell_type": "code",
   "execution_count": null,
   "metadata": {
    "slideshow": {
     "slide_type": "slide"
    }
   },
   "outputs": [],
   "source": [
    "print(\"hello, world\")"
   ]
  },
  {
   "cell_type": "markdown",
   "metadata": {
    "slideshow": {
     "slide_type": "fragment"
    }
   },
   "source": [
    "You can run the cells regardless of order, but **variables** are saved."
   ]
  },
  {
   "cell_type": "code",
   "execution_count": null,
   "metadata": {
    "slideshow": {
     "slide_type": "fragment"
    }
   },
   "outputs": [],
   "source": [
    "x = 123"
   ]
  },
  {
   "cell_type": "code",
   "execution_count": null,
   "metadata": {
    "slideshow": {
     "slide_type": "fragment"
    }
   },
   "outputs": [],
   "source": [
    "print(x)"
   ]
  },
  {
   "cell_type": "markdown",
   "metadata": {
    "slideshow": {
     "slide_type": "slide"
    }
   },
   "source": [
    "### Note\n",
    "\n",
    "You can use also Google Colab (if you have a google account)\n",
    "* https://colab.research.google.com/\n"
   ]
  },
  {
   "cell_type": "markdown",
   "metadata": {
    "slideshow": {
     "slide_type": "slide"
    }
   },
   "source": [
    "# Goal\n",
    "\n",
    "Implementation of\n",
    "\n",
    "1. **Nucleotide Diversity**\n",
    "2. **Segregating sites** (<font color=gray>detecting/calling SNPs</font>)\n",
    "3. **Tajima's D**\n",
    "\n",
    "in Python (<font color=gray>without using any third party libraries</font>)\n",
    "\n"
   ]
  },
  {
   "cell_type": "markdown",
   "metadata": {
    "slideshow": {
     "slide_type": "subslide"
    }
   },
   "source": [
    "# Underlying Objective\n",
    "\n",
    "Learning **how to construct an algorithm** through the implementation of\n",
    "\n",
    "1. Nucleotide Diversity\n",
    "2. Segregating sites (<font color=gray>detecting/calling SNPs</font>)\n",
    "3. Tajima's D\n",
    "\n",
    "as an example in Python"
   ]
  },
  {
   "cell_type": "markdown",
   "metadata": {
    "slideshow": {
     "slide_type": "subslide"
    }
   },
   "source": [
    "# Option\n",
    "\n",
    "Learning **how to use AI support tools** for programming through the implementation of\n",
    "\n",
    "1. Nucleotide Diversity\n",
    "2. Segregating sites (<font color=gray>detecting/calling SNPs</font>)\n",
    "3. Tajima's D\n",
    "\n",
    "as an example in Python"
   ]
  },
  {
   "cell_type": "code",
   "execution_count": null,
   "metadata": {
    "slideshow": {
     "slide_type": "notes"
    }
   },
   "outputs": [],
   "source": [
    "IPython.display.Audio(\"voice/goal.mp3\") "
   ]
  },
  {
   "cell_type": "markdown",
   "metadata": {
    "slideshow": {
     "slide_type": "notes"
    }
   },
   "source": [
    "The goal of this module is the implementation of the nucleotide diversity and Tajima's D in Python.\n",
    "\n",
    "But more importantly, you should learn how to construct an algorithm through the implementation of the nucleotide diversity and Tajima's D as an example.\n",
    "\n",
    "I guess you have learned the basic techniques and concepts of Python in the first module. For example, what is the variable, what is the operator, method, if-statement, and so on.\n",
    "\n",
    "The next step in learning a computer programming should be to learn how to construct an algorithm.\n",
    "\n",
    "Now you know mathematically how to calculate the nucleotide diversity. But how do you implement it in Python?\n",
    "\n",
    "In this module, you can learn how to construct an algorithm, by building up small blocks of code, and at the end, you will see how to solve the nucleotide diversity and Tajima's D in Python."
   ]
  },
  {
   "cell_type": "markdown",
   "metadata": {
    "slideshow": {
     "slide_type": "slide"
    }
   },
   "source": [
    "# Plan\n",
    "\n",
    "1. Day1 (<font color=gray>through Python review</font>): Nucleotide diversity\n",
    "\n",
    "2. Day2 (<font color=gray>through population genetics review</font>): Tajima's D\n",
    "\n",
    "3. Day3: Advanced exercise (<font color=gray>if we have time</font>)\n"
   ]
  },
  {
   "cell_type": "markdown",
   "metadata": {
    "slideshow": {
     "slide_type": "subslide"
    }
   },
   "source": [
    "# Lecture style\n",
    "\n",
    "\n",
    "**in each topic**\n",
    "1. Example (Jupyter notebook)\n",
    "2. Exercise (by yourself)\n",
    "3. Advanced exercise (option, for advanced participants)\n"
   ]
  },
  {
   "cell_type": "markdown",
   "metadata": {
    "slideshow": {
     "slide_type": "subslide"
    }
   },
   "source": [
    "\n",
    "- Q&A (As needed)\n",
    "- Answer code will be added in GitHub after 5pm\n",
    "\n",
    "Key concept\n",
    "- *Step by step, break a problem into as small of pieces as possible*\n",
    " - *Divide and conquer*\n",
    " - *Eile mit Weile (Make haste slowly)*\n"
   ]
  },
  {
   "cell_type": "code",
   "execution_count": null,
   "metadata": {
    "slideshow": {
     "slide_type": "notes"
    }
   },
   "outputs": [],
   "source": [
    "IPython.display.Audio(\"voice/lecture_style.mp3\")"
   ]
  },
  {
   "cell_type": "markdown",
   "metadata": {
    "slideshow": {
     "slide_type": "notes"
    }
   },
   "source": [
    "In this lecture, I divided the topics into smaller parts, like part1, part2, ..., in order to focus on each topic more simply.\n",
    "\n",
    "In each part, I will give you an example on the Jupyter notebook first, and then you can try some exercises in the Jupyter environment by yourself at your own pace. \n",
    "\n",
    "I just assign roughly one hour in each part, but you do not have to rush. Just see how the small code blocks are built up and connected to each other, and think why and how it calculates until you understand it.\n",
    "\n",
    "If you have a question, please put it in a Slack channel. I will answer your question as soon as possible. The answer code for the exercises will be added in the GitHub at the end of the day.\n"
   ]
  },
  {
   "cell_type": "markdown",
   "metadata": {
    "slideshow": {
     "slide_type": "slide"
    }
   },
   "source": [
    "# Important skills (*in programming*)\n",
    "\n",
    "<font color=gray>behind (beyond?) the knowledge of programming language (grammar)</font>\n",
    "\n",
    "1. **Deduction**: Using logic (e.g., if a $\\rightarrow$ b and b $\\rightarrow$ c then a $\\rightarrow$ c)\n",
    "2. **Induction**: Generalization from specific instances (e.g., identifying patterns)\n",
    "3. **Abduction**: Hypothetical reasoning (e.g., forming hypotheses based on incomplete information, using deduction and induction, the \"aha!\" moment may come up together)\n",
    "\n"
   ]
  },
  {
   "cell_type": "code",
   "execution_count": null,
   "metadata": {
    "slideshow": {
     "slide_type": "notes"
    }
   },
   "outputs": [],
   "source": [
    "IPython.display.Audio(\"voice/tips.mp3\")"
   ]
  },
  {
   "cell_type": "markdown",
   "metadata": {
    "slideshow": {
     "slide_type": "notes"
    }
   },
   "source": [
    "I just give you some small tips on the learning of algorithms. It is a sort of knowledge of knowledge. I would say, it is meta-knowledge.\n",
    "\n",
    "They say, there are three types of thinking way. Deduction, Induction, and Abduction.\n",
    "\n",
    "Deduction is like so-called logical thinking. If A=B and B=C, then you can conclude A=C, something like that.\n",
    "\n",
    "In the computer process, the commands are executed one by one in order. You need to construct the calculation step by step without jumping the logic. So, the deductive thinking way is very important in programming.\n",
    "\n",
    "Induction is a sort of generalization process. If you find some similar concepts or processes, you would be able to generalize them into one common idea or one abstract concept. There are a lot of similar processes in programming. The generalization process is very important, for example, how to group a block of code and how to define a method, and so on.\n",
    "\n",
    "Abduction is a sort of hypothetical thinking, but not just intuition or inspiration. It is not always true but based on your experience or observation, you could get a reasonable or possible solution under some uncertainty.\n",
    "\n",
    "Computer programming is something like a puzzle. You have a lot of pieces but you do not know how to link them to each other. Then you may do a lot of try-and-errors.\n",
    "\n",
    "Usually, there is not only one solution, but there must be several ways to solve a problem. Sometimes you may get a new solution by abduction. \n",
    "\n",
    "After thinking over and over again, trying a lot of combinations and possibilities, searching for knowledge in your brain, sometimes you might meet the moment. Aha or something like Bingo. It is neither deduction nor induction, but it may be an abduction.\n",
    "\n",
    "The important thing in abduction is: not to give up thinking and to believe that the solution must exist, then you might be able to find a solution.\n",
    "\n",
    "I will come back to this topic again from time to time during the lecture.\n"
   ]
  },
  {
   "cell_type": "markdown",
   "metadata": {
    "slideshow": {
     "slide_type": "slide"
    }
   },
   "source": [
    "# Today's Plan\n",
    "\n",
    "1. Part1: Quick introduction, AI tools, demo, tips\n",
    "2. Part2: Comparison two sequences\n",
    "3. Part3: Nucleotide diversity\n"
   ]
  },
  {
   "cell_type": "markdown",
   "metadata": {
    "slideshow": {
     "slide_type": "subslide"
    }
   },
   "source": [
    "# AI support tools\n",
    "\n",
    "<font color=gray>A paradigm shift is happening right now!!</font>\n",
    "\n",
    "1. **Chat type LLM tool**  (<font color=gray>ChatGPT, Claude, Gemini, Bing</font>)\n",
    "2. **AI coding agents** (<font color=gray>Cursor, Windsurf, CLINE, VSCode + Copilot/Codeium</font>)\n"
   ]
  },
  {
   "cell_type": "markdown",
   "metadata": {
    "slideshow": {
     "slide_type": "slide"
    }
   },
   "source": [
    "# How useful for programming?\n",
    "\n",
    "1. Code generation, completion, suggestion (<font color=gray>can be a collaborator/coworker</font>)\n",
    "2. Code refactoring, debugging\n",
    "3. Learning (<font color=gray>can be a teacher</font>)"
   ]
  },
  {
   "cell_type": "markdown",
   "metadata": {
    "slideshow": {
     "slide_type": "fragment"
    }
   },
   "source": [
    "*like drving a car*"
   ]
  },
  {
   "cell_type": "markdown",
   "metadata": {
    "slideshow": {
     "slide_type": "slide"
    }
   },
   "source": [
    "# Prompt Engineering & Vibe Coding\n",
    "\n",
    "\n",
    "### **Prompt engineering**\n",
    "\n",
    "    is the process of designing and refining input prompts to effectively guide AI models in generating desired outputs.\n",
    "\n",
    "### **Vibe Coding**\n",
    "\n",
    "    is an intuitive and creative approach to coding with AI"
   ]
  },
  {
   "cell_type": "markdown",
   "metadata": {
    "slideshow": {
     "slide_type": "subslide"
    }
   },
   "source": [
    "### **Key points in Prompt engineering and Vibe coding**\n",
    "\n",
    "\n",
    "* More information leads to more specific answers\n",
    "\n",
    "  * General questions: yield general answers\n",
    "  * Specific questions: Provide context, examples, roles, input, format, etc., for more precise answers"
   ]
  },
  {
   "cell_type": "markdown",
   "metadata": {
    "slideshow": {
     "slide_type": "slide"
    }
   },
   "source": [
    "# Note\n",
    "\n",
    "1. The key programming skill in the next generation will be how to use LLM tools (in my opinion)\n",
    "2. Useful,  but you are responsible for using it correctly (<font color=gray>security, misinfo., personal info., trade secret</font>)\n",
    "3. You need to know the basics at least to make full use of it\n",
    "(<font color=gray>at a certain point, you will be required to think by yourself</font>)\n"
   ]
  },
  {
   "cell_type": "markdown",
   "metadata": {
    "slideshow": {
     "slide_type": "fragment"
    }
   },
   "source": [
    "4. Using a LLM tool in the final exam is **NOT** allowed"
   ]
  },
  {
   "cell_type": "markdown",
   "metadata": {
    "slideshow": {
     "slide_type": "slide"
    }
   },
   "source": [
    "### **Fundamental Thinking Skills in Coding (1/2)**\n",
    "\n",
    "| Thinking Skill                               | Self-coding (without AI)                                        | Vibe-coding (with AI)                                         |\n",
    "| -------------------------------------------- | --------------------------------------------------------------- | ------------------------------------------------------------- |\n",
    "| **Deduction** (Logical Construction)         | ✅ Constructing logic and step-by-step structure manually        | ⚠️ Verifying and correcting the logic in AI-generated code    |\n",
    "| **Induction** (Abstraction & Generalization) | ✅ Extracting patterns and generalizing into reusable components | ✅ Abstracting requirements to formulate clear prompts         |\n",
    "| **Abduction** (Hypothetical Reasoning)       | ✅ Inferring causes of bugs or failures through trial and error  | ✅ Interpreting and adjusting unexpected or unclear AI outputs |\n"
   ]
  },
  {
   "cell_type": "markdown",
   "metadata": {
    "slideshow": {
     "slide_type": "slide"
    }
   },
   "source": [
    "### **Structural Thinking Skills in Coding (2/2)**\n",
    "\n",
    "\n",
    "| Thinking Skill                                | Self-coding (without AI)                                        | Vibe-coding (with AI)                                          |\n",
    "| --------------------------------------------- | --------------------------------------------------------------- | -------------------------------------------------------------- |\n",
    "| **Framing** (Problem Structuring)             | ⚠️ Understanding assumptions and constraints of the task        | ✅ Designing clear and focused prompts for AI                   |\n",
    "| **Goal Design** (Purpose-Driven Thinking)     | ⚠️ Implementing with a conscious awareness of the intended goal | ✅ Aligning prompt and AI output toward specific objectives     |\n",
    "| **Critical Thinking** (Evaluation & Judgment) | ⚠️ Evaluating one’s own logic and implementation choices        | ✅ Reviewing and selectively accepting AI-generated suggestions |\n"
   ]
  },
  {
   "cell_type": "markdown",
   "metadata": {
    "slideshow": {
     "slide_type": "slide"
    }
   },
   "source": [
    "# Discussion  by ChatGPT on using ChatGPT in programming\n",
    "\n",
    "**Pros:**\n",
    "1. **Increased Efficiency:** Quick debugging and code completion enhance productivity.\n",
    "2. **Learning Support:** Immediate resolution of beginners' questions accelerates learning.\n",
    "3. **Diverse Perspectives:** Provides insights into various programming languages and up-to-date technical information.\n"
   ]
  },
  {
   "cell_type": "markdown",
   "metadata": {
    "slideshow": {
     "slide_type": "subslide"
    }
   },
   "source": [
    "**Cons:**\n",
    "1. **Risk of Dependency:** Over-reliance may hinder the development of independent problem-solving skills.\n",
    "2. **Risk of Misinformation:** Potential to receive incorrect information, requiring critical thinking.\n",
    "3. **Creativity Inhibition:** May reduce the ability to develop unique solutions.\n"
   ]
  },
  {
   "cell_type": "markdown",
   "metadata": {
    "slideshow": {
     "slide_type": "slide"
    }
   },
   "source": [
    "# My recommendation for using AI Tools in programming\n",
    "\n",
    "\n",
    "**For training**\n",
    "\n",
    "1. Think the solution by yourself first  \n",
    "2. Improve your critical thinking skills\n",
    "3. Use AI tools in order to refine your thinking skills\n",
    "\n"
   ]
  },
  {
   "cell_type": "markdown",
   "metadata": {
    "slideshow": {
     "slide_type": "subslide"
    }
   },
   "source": [
    "\n",
    "**For job tasks**\n",
    "\n",
    "1. Use AI tools to boost efficiency\n",
    "2. Think independently when needed\n",
    "3. Handle security and privacy with care\n",
    "\n"
   ]
  },
  {
   "cell_type": "markdown",
   "metadata": {
    "slideshow": {
     "slide_type": "fragment"
    }
   },
   "source": [
    "*It will be inevitable to live together, regardless of whether it's good or bad*\n"
   ]
  },
  {
   "cell_type": "code",
   "execution_count": null,
   "metadata": {
    "slideshow": {
     "slide_type": "notes"
    }
   },
   "outputs": [],
   "source": [
    "IPython.display.Audio(\"voice/day1_plan.mp3\")"
   ]
  },
  {
   "cell_type": "markdown",
   "metadata": {
    "slideshow": {
     "slide_type": "notes"
    }
   },
   "source": [
    "Today, there are three parts.\n",
    "\n",
    "Part1: I will just quickly review the important grammars of Python\n",
    "\n",
    "If you think it is easy, you can skip this part.\n",
    "\n",
    "In Part2: I just give you an example of how to compare the two nucleotide sequences\n",
    "\n",
    "For some of you, this also may be easy part.\n",
    "\n",
    "Then finally, in part3: You can try the implementation of the nucleotide diversity using a very simple dataset.\n",
    "\n",
    "I just assign about one hour to each part, but you can do it by yourself at your own pace.\n"
   ]
  },
  {
   "cell_type": "markdown",
   "metadata": {
    "slideshow": {
     "slide_type": "slide"
    }
   },
   "source": [
    "# Part1 (*Quick Python Review*)\n",
    "\n",
    "1. Basic components\n",
    "2. Data structure\n",
    "3. Flow control statements\n",
    "\n"
   ]
  },
  {
   "cell_type": "markdown",
   "metadata": {
    "slideshow": {
     "slide_type": "subslide"
    }
   },
   "source": [
    "\n",
    "Note\n",
    "- Please refer to Prof. CvM's group PDFs in detail\n",
    "- Required parts only for nucleotide diversity and Tajima's D implementation\n",
    "- No instruction: 1. how to use texteditor, 2. how to use terminal (Unix commands)\n"
   ]
  },
  {
   "cell_type": "code",
   "execution_count": null,
   "metadata": {
    "slideshow": {
     "slide_type": "notes"
    }
   },
   "outputs": [],
   "source": [
    "IPython.display.Audio(\"voice/python_review.mp3\")"
   ]
  },
  {
   "cell_type": "markdown",
   "metadata": {
    "slideshow": {
     "slide_type": "notes"
    }
   },
   "source": [
    "Then let's start the quick python review.\n",
    "\n",
    "I just pick up 3 important topics. Basic components, Data structure, and Flow control statements.\n",
    "\n",
    "For more detail, just go back to the first module lecture or search by Google, or ask LLM services."
   ]
  },
  {
   "cell_type": "markdown",
   "metadata": {
    "slideshow": {
     "slide_type": "skip"
    }
   },
   "source": [
    "# Useful links\n",
    "\n",
    "* Python https://www.python.org/\n",
    "* Tutorial https://docs.python.org/3/tutorial/\n",
    "* Glossary https://docs.python.org/3/glossary.html#glossary\n",
    "* The 5 Best Websites To Learn Python Programming http://www.makeuseof.com/tag/5-websites-learn-python-programming/\n"
   ]
  },
  {
   "cell_type": "markdown",
   "metadata": {
    "slideshow": {
     "slide_type": "slide"
    }
   },
   "source": [
    "# Basic Components\n",
    "\n",
    "* Variable type (numeric, string, boolean, operand)\n",
    "* Assignment operator (=)\n",
    "* Numeric operators (+ - * /)\n",
    "* Comparison operators (== > <)\n",
    "\n"
   ]
  },
  {
   "cell_type": "markdown",
   "metadata": {
    "slideshow": {
     "slide_type": "slide"
    }
   },
   "source": [
    "# Variable type (numeric string)\n",
    "\n",
    "* Numeric: 1 2 3 1.5 3.9\n",
    "* String: 'hello' \"bye\" \n",
    "\n",
    "Note   \n",
    "- *=* assignment operator, direction right to left (variable)\n",
    "\n"
   ]
  },
  {
   "cell_type": "code",
   "execution_count": null,
   "metadata": {
    "slideshow": {
     "slide_type": "notes"
    }
   },
   "outputs": [],
   "source": [
    "IPython.display.Audio(\"voice/variable_type.mp3\")"
   ]
  },
  {
   "cell_type": "markdown",
   "metadata": {
    "slideshow": {
     "slide_type": "notes"
    }
   },
   "source": [
    "There are two types of variables. Numeric and String.\n",
    "\n",
    "Numeric value is like 1, 2, 3,... that is, Integer value, and something like 1.5, 3.9, the real numbers.\n",
    " \n",
    "String value is a set of letters. String value needs the single quotation or double quotation.\n",
    "\n",
    "In computer programming, the variable is like a memory space to keep the calculation result or value. To assign a value, you use the assignment operator, =. The assignment is always from right to left. You have to put the variable on the left side of the =. \n",
    "\n",
    "Let's see the example below.\n"
   ]
  },
  {
   "cell_type": "code",
   "execution_count": null,
   "metadata": {
    "slideshow": {
     "slide_type": "subslide"
    }
   },
   "outputs": [],
   "source": [
    "x = 123\n",
    "print(x)\n",
    "print(\"hello\")\n"
   ]
  },
  {
   "cell_type": "markdown",
   "metadata": {
    "slideshow": {
     "slide_type": "slide"
    }
   },
   "source": [
    "# Numeric operators\n",
    "\n",
    "- \"+\"\n",
    "- \"-\"\n",
    "- \"*\"\n",
    "- \"/\"\n"
   ]
  },
  {
   "cell_type": "code",
   "execution_count": null,
   "metadata": {
    "slideshow": {
     "slide_type": "notes"
    }
   },
   "outputs": [],
   "source": [
    "IPython.display.Audio(\"voice/numeric_operators.mp3\")"
   ]
  },
  {
   "cell_type": "markdown",
   "metadata": {
    "slideshow": {
     "slide_type": "notes"
    }
   },
   "source": [
    "The function of the operator depends on the data type. For numeric value, addition, subtraction, multiplication, and division are available. The result becomes Integer or real number.\n",
    "\n",
    "If you use \"+\" operator to Sring value, it becomes the concatenation of two strings. See the example below.\n",
    "\n",
    "Please note one thing: The number of digits is limited in a computer. So, the result of 10 divided by 3 is rounded at the final digit and it includes a small error. See the example below.\n",
    "\n"
   ]
  },
  {
   "cell_type": "code",
   "execution_count": null,
   "metadata": {
    "slideshow": {
     "slide_type": "subslide"
    }
   },
   "outputs": [],
   "source": [
    "print(1+2)\n",
    "print(10/3)\n",
    "print(\"a\" + \"b\")"
   ]
  },
  {
   "cell_type": "code",
   "execution_count": null,
   "metadata": {
    "slideshow": {
     "slide_type": "subslide"
    }
   },
   "outputs": [],
   "source": [
    "x = 2\n",
    "y = 2\n",
    "a = x + y\n",
    "b = x - y\n",
    "c = x * y\n",
    "d = x / y\n",
    "\n",
    "print(a,b,c,d)"
   ]
  },
  {
   "cell_type": "markdown",
   "metadata": {
    "slideshow": {
     "slide_type": "subslide"
    }
   },
   "source": [
    "Use round brackets if you are not sure which operator first"
   ]
  },
  {
   "cell_type": "code",
   "execution_count": null,
   "metadata": {
    "slideshow": {
     "slide_type": "fragment"
    }
   },
   "outputs": [],
   "source": [
    "x = 2; y = 2;\n",
    "z = (x + y)\n",
    "z = (x - y)\n",
    "z = (x * y)\n",
    "z = (x / y)\n",
    "\n",
    "print(a,b,c,d)"
   ]
  },
  {
   "cell_type": "markdown",
   "metadata": {
    "slideshow": {
     "slide_type": "slide"
    }
   },
   "source": [
    "# Comparison operators\n",
    "\n",
    "    p == q # equal\n",
    "    p != q # not equal\n",
    "    p < q  # less than \n",
    "    p > q  # greater than\n",
    "    p <= q # less than equal\n",
    "    p >= q # greater than equal\n",
    "\n",
    "\n",
    "Q: What happens if it is used for String data?"
   ]
  },
  {
   "cell_type": "code",
   "execution_count": null,
   "metadata": {
    "slideshow": {
     "slide_type": "notes"
    }
   },
   "outputs": [],
   "source": [
    "IPython.display.Audio(\"voice/comparison_operators.mp3\")"
   ]
  },
  {
   "cell_type": "markdown",
   "metadata": {
    "slideshow": {
     "slide_type": "notes"
    }
   },
   "source": [
    "Additionally, there are comparison operators. These operators compare two values. Always only two values. If you want to compare three values, you have to use the comparison operator twice.\n",
    "\n",
    "Another point in the comparison, the result becomes *True* or *False*, which is called Boolean value. \n",
    "\n",
    "Let's see examples below.\n"
   ]
  },
  {
   "cell_type": "code",
   "execution_count": null,
   "metadata": {
    "slideshow": {
     "slide_type": "subslide"
    }
   },
   "outputs": [],
   "source": [
    "p = 1\n",
    "q = 2\n",
    "print(p == q)\n",
    "print(p != q)\n",
    "print(p < q)\n",
    "print(p > q)\n",
    "print(p <= q)\n",
    "print(p >= q)"
   ]
  },
  {
   "cell_type": "markdown",
   "metadata": {
    "slideshow": {
     "slide_type": "slide"
    }
   },
   "source": [
    "# Multiline comments\n",
    "\n",
    "Use triple quotation\n",
    "\n",
    "```\n",
    "'''\n",
    "all comments from here\n",
    "p == q # equal\n",
    "p != q # not equal\n",
    "p < q  # less than \n",
    "until here \n",
    "'''    \n",
    "```"
   ]
  },
  {
   "cell_type": "markdown",
   "metadata": {
    "slideshow": {
     "slide_type": "subslide"
    }
   },
   "source": [
    "# Multiline text (Here-document)\n",
    "\n",
    "```\n",
    "print('''\n",
    "all comments from here\n",
    "p == q # equal\n",
    "p != q # not equal\n",
    "p < q  # less than \n",
    "until here \n",
    "''')\n",
    "```\n",
    "- every line is printed out\n"
   ]
  },
  {
   "cell_type": "code",
   "execution_count": null,
   "metadata": {
    "slideshow": {
     "slide_type": "subslide"
    }
   },
   "outputs": [],
   "source": [
    "print('''\n",
    "all comments from here\n",
    "p == q # equal\n",
    "p != q # not equal\n",
    "p < q  # less than \n",
    "until here \n",
    "''')"
   ]
  },
  {
   "cell_type": "markdown",
   "metadata": {
    "slideshow": {
     "slide_type": "slide"
    }
   },
   "source": [
    "# Boolean expression\n",
    "\n",
    "- *True*/*False*\n",
    "- return value of comparison operation"
   ]
  },
  {
   "cell_type": "markdown",
   "metadata": {
    "slideshow": {
     "slide_type": "slide"
    }
   },
   "source": [
    "# Boolean operators\n",
    "\n",
    "* *and*: if both value are true, then *True*\n",
    "* *or*: if either value is true, then *True*\n",
    "* *not*: opposite of the boolean value\n",
    "\n",
    "\n",
    "These are the **operators**, reserved by the system."
   ]
  },
  {
   "cell_type": "code",
   "execution_count": null,
   "metadata": {
    "slideshow": {
     "slide_type": "notes"
    }
   },
   "outputs": [],
   "source": [
    "IPython.display.Audio(\"voice/boolean_operators.mp3\")"
   ]
  },
  {
   "cell_type": "markdown",
   "metadata": {
    "slideshow": {
     "slide_type": "notes"
    }
   },
   "source": [
    "There are operators only for Boolean values, *True* and *False*.\n",
    "\n",
    "There are three operators, *and*, *or*, *not*.\n",
    "\n",
    "*and* operator returns *True* if two values are *True*.\n",
    "\n",
    "*or* operator returns *True* if either value is *True*, in other words, if both values are *False*, it returns *False*.\n",
    "\n",
    "*not* operator returns the opposite boolean value. *not True* becomes *False*, *not False* becomes *True*.\n"
   ]
  },
  {
   "cell_type": "code",
   "execution_count": null,
   "metadata": {
    "slideshow": {
     "slide_type": "subslide"
    }
   },
   "outputs": [],
   "source": [
    "print(True and True)\n",
    "print(True and False)\n",
    "print(True or False)\n",
    "print(False or False)"
   ]
  },
  {
   "cell_type": "code",
   "execution_count": null,
   "metadata": {
    "slideshow": {
     "slide_type": "subslide"
    }
   },
   "outputs": [],
   "source": [
    "# comparison of three values\n",
    "\n",
    "a = 2\n",
    "b = 5\n",
    "c = 1\n",
    "if a < b:\n",
    "    if b < c:\n",
    "      print(\"c is highest\")\n",
    "    else:\n",
    "      print(\"b is highest\")\n",
    "else:\n",
    "    if a < c:\n",
    "      print(\"c is highest\")\n",
    "    else:\n",
    "      print(\"a is highest\")\n"
   ]
  },
  {
   "cell_type": "code",
   "execution_count": null,
   "metadata": {
    "slideshow": {
     "slide_type": "subslide"
    }
   },
   "outputs": [],
   "source": [
    "a = 2\n",
    "b = 5\n",
    "c = 1\n",
    "if a < b and b < c:\n",
    "    print(\"c is highest\")\n",
    "elif a < b and b > c:\n",
    "    print(\"b is highest\")\n",
    "elif a > b and a > c:\n",
    "    print(\"a is highest\")\n"
   ]
  },
  {
   "cell_type": "markdown",
   "metadata": {
    "slideshow": {
     "slide_type": "fragment"
    }
   },
   "source": [
    "*How do you compare more than 3 values?*\n"
   ]
  },
  {
   "cell_type": "markdown",
   "metadata": {
    "slideshow": {
     "slide_type": "slide"
    }
   },
   "source": [
    "# Data structure\n",
    "\n",
    "* *List*: a set of indexed values, mutable\n",
    "* *Tuple*: a set of indexed values, immutable\n",
    "* *Set*: a set of unique values, in random order\n",
    "* *Dictionary*: a set of key-value data, in random order\n",
    "\n"
   ]
  },
  {
   "cell_type": "code",
   "execution_count": null,
   "metadata": {
    "slideshow": {
     "slide_type": "notes"
    }
   },
   "outputs": [],
   "source": [
    "IPython.display.Audio(\"voice/data_structures.mp3\")"
   ]
  },
  {
   "cell_type": "markdown",
   "metadata": {
    "slideshow": {
     "slide_type": "notes"
    }
   },
   "source": [
    "\n",
    "In Python, there are four popular data structures, *List*, *Tuple*, *Set*, and *Dictionary*.\n",
    "\n",
    "*List* is also called array in other programming languages. It has several elements with indexes, and the index begins with zero.\n",
    "\n",
    "The first element of the list has the index zero. The index of the second element is 1, and the third element, 2, ..., and so on.\n",
    "\n",
    "*Tuple* is mostly the same as list, but it is not changeable. Once you set the elements, the element cannot change during the code running.\n",
    "\n",
    "*Set* is also similar to list, but it does not have an index, and it does not allow duplicated values. Each element must be different from other elements.\n",
    "\n",
    "*Dictionary* is also similar to list, but the index does not have to be an integer. Instead, it is called *key*. Namely, it is a dataset of *key* and *value*.\n",
    "\n",
    "Let's see the example below.\n",
    "\n"
   ]
  },
  {
   "cell_type": "markdown",
   "metadata": {
    "slideshow": {
     "slide_type": "slide"
    }
   },
   "source": [
    "# List\n",
    "\n",
    "* Indexed sequential data set\n",
    "* Indexed from *0* (not 1)\n",
    "* String object is processed like a List object"
   ]
  },
  {
   "cell_type": "code",
   "execution_count": null,
   "metadata": {
    "slideshow": {
     "slide_type": "subslide"
    }
   },
   "outputs": [],
   "source": [
    "lst = [2, 4, 6, 8]\n",
    "print(lst[0])\n",
    "print(len(lst))\n",
    "\n",
    "str = \"hello\"\n",
    "print(str[0])\n",
    "print(len(str))"
   ]
  },
  {
   "cell_type": "markdown",
   "metadata": {
    "slideshow": {
     "slide_type": "fragment"
    }
   },
   "source": [
    "As you can see the example above, the String value is like a List. Actually, it is not a List object but you can access each character of the String by index."
   ]
  },
  {
   "cell_type": "markdown",
   "metadata": {
    "slideshow": {
     "slide_type": "slide"
    }
   },
   "source": [
    "# Tuple\n",
    "* Similar to List\n",
    "* Immutable (you can set the values only once)"
   ]
  },
  {
   "cell_type": "code",
   "execution_count": null,
   "metadata": {
    "slideshow": {
     "slide_type": "subslide"
    }
   },
   "outputs": [],
   "source": [
    "tpl = (2, 4, 6, 8)\n",
    "print(tpl[0])\n",
    "print(len(tpl))\n",
    "\n",
    "tpl[0] = 100 #=> error\n"
   ]
  },
  {
   "cell_type": "markdown",
   "metadata": {
    "slideshow": {
     "slide_type": "slide"
    }
   },
   "source": [
    "# Set\n",
    "\n",
    "* Unique data set in random order\n",
    "* Duplicated values are removed\n",
    "* Useful to remove duplicated values from a *List*\n",
    "* *set()* is a built-in funciton to convert a *List* into a *Set* object\n",
    "\n",
    "\n"
   ]
  },
  {
   "cell_type": "code",
   "execution_count": null,
   "metadata": {
    "slideshow": {
     "slide_type": "notes"
    }
   },
   "outputs": [],
   "source": [
    "IPython.display.Audio(\"voice/set_and_list.mp3\")"
   ]
  },
  {
   "cell_type": "markdown",
   "metadata": {
    "slideshow": {
     "slide_type": "notes"
    }
   },
   "source": [
    "*Set* is similar to *List* but it does not have the index and it does not allow duplicated elements. The elements in the *Set* object must different from each other.\n",
    "\n",
    "It does not have an index, which means in other words, the elements do not have order. If you need the order of elements, you may use *sorted()* method and convert it into a List object.\n",
    "\n",
    "Let's see the example below.\n"
   ]
  },
  {
   "cell_type": "code",
   "execution_count": null,
   "metadata": {
    "slideshow": {
     "slide_type": "subslide"
    }
   },
   "outputs": [],
   "source": [
    "s = {2, 2, 3, 3}\n",
    "print(s)\n",
    "string = \"hello\"\n",
    "print(set(string))\n",
    "print(sorted(set(string)))"
   ]
  },
  {
   "cell_type": "markdown",
   "metadata": {
    "slideshow": {
     "slide_type": "slide"
    }
   },
   "source": [
    "# Dictionary\n",
    "\n",
    "* Key-value data set in random order\n",
    "* The **key** should be unique\n",
    "* The **key** can be either numeric or string\n"
   ]
  },
  {
   "cell_type": "code",
   "execution_count": null,
   "metadata": {
    "slideshow": {
     "slide_type": "subslide"
    }
   },
   "outputs": [],
   "source": [
    "d = {\"apple\":100, \"orange\":500, \"banana\": 300}\n",
    "print(d)\n",
    "print(d[\"apple\"])\n",
    "d[\"apple\"] = 700\n",
    "print(d)\n",
    "print(sorted(d.items()))\n",
    "print(sorted(d.values()))"
   ]
  },
  {
   "cell_type": "markdown",
   "metadata": {
    "slideshow": {
     "slide_type": "slide"
    }
   },
   "source": [
    "# Question?\n",
    "\n"
   ]
  },
  {
   "cell_type": "markdown",
   "metadata": {
    "slideshow": {
     "slide_type": "slide"
    }
   },
   "source": [
    "# Flow Control\n",
    "\n",
    "![flow](png/3flows.png)\n",
    "\n",
    "3 fundamental flows\n",
    "\n"
   ]
  },
  {
   "cell_type": "markdown",
   "metadata": {
    "slideshow": {
     "slide_type": "subslide"
    }
   },
   "source": [
    "\n",
    "3 fundamental flows\n",
    "\n",
    "1. Sequential processing\n",
    "2. Conditional branching\n",
    "3. Repetitive processing\n",
    "\n"
   ]
  },
  {
   "cell_type": "code",
   "execution_count": null,
   "metadata": {
    "slideshow": {
     "slide_type": "notes"
    }
   },
   "outputs": [],
   "source": [
    "IPython.display.Audio(\"voice/flow_control.mp3\")"
   ]
  },
  {
   "cell_type": "markdown",
   "metadata": {
    "slideshow": {
     "slide_type": "notes"
    }
   },
   "source": [
    "Next, I will explain the flow of the process. You need to remember only 3 types of process flow.\n",
    "\n",
    "Sequential processing, conditional branching, and repetitive processing.\n",
    "\n",
    "If you put the commands, the commands will be executed in order one by one sequentially. This is the default process flow.\n",
    "\n",
    "Sometimes you might want to process the commands in two ways depending on the condition. Then you could use branching processing.\n",
    "\n",
    "Sometimes, in other situations, you might want to repeat a similar process. Then you could use repetitive processing. \n",
    "\n",
    "There are several ways to implement them. I will show you simple examples in the following."
   ]
  },
  {
   "cell_type": "markdown",
   "metadata": {
    "slideshow": {
     "slide_type": "slide"
    }
   },
   "source": [
    "# Flow control statements \n",
    "\n",
    "* *if* : conditional branching\n",
    "* *while, for* : repetitive processing\n",
    "\n"
   ]
  },
  {
   "cell_type": "markdown",
   "metadata": {
    "slideshow": {
     "slide_type": "slide"
    }
   },
   "source": [
    "# If\n",
    "conditional branching\n",
    "\n",
    "    if <condition>:\n",
    "        # process1\n",
    "    else: \n",
    "        # process2\n",
    "\n",
    "* if **\\<condition>** is *True*, **process1** runs, otherwise **process2** runs\n"
   ]
  },
  {
   "cell_type": "markdown",
   "metadata": {
    "slideshow": {
     "slide_type": "subslide"
    }
   },
   "source": [
    "Q: How to manage multi conditions?"
   ]
  },
  {
   "cell_type": "code",
   "execution_count": null,
   "metadata": {
    "slideshow": {
     "slide_type": "notes"
    }
   },
   "outputs": [],
   "source": [
    "IPython.display.Audio(\"voice/if_statement.mp3\")"
   ]
  },
  {
   "cell_type": "markdown",
   "metadata": {
    "slideshow": {
     "slide_type": "notes"
    }
   },
   "source": [
    "if-statement swithes the flow in two or more depending on a condition.\n",
    "\n",
    "The condition should be the comparison operation or boolean operation, in other words, the condition must be *True* or *False*.\n",
    "\n",
    "If the condition becomes *True*, the first process runs, otherwise, the second process after the *else* runs. \n",
    "\n",
    "In other words, the condition becomes *False*, the second process runs.\n",
    "\n",
    "Let's see the example below.\n"
   ]
  },
  {
   "cell_type": "code",
   "execution_count": null,
   "metadata": {
    "slideshow": {
     "slide_type": "subslide"
    }
   },
   "outputs": [],
   "source": [
    "x = 12\n",
    "if x > 100:\n",
    "    print(\"process1\")\n",
    "elif x > 50: \n",
    "    print(\"process2\")\n",
    "else: \n",
    "    print(\"process3\")"
   ]
  },
  {
   "cell_type": "markdown",
   "metadata": {
    "slideshow": {
     "slide_type": "slide"
    }
   },
   "source": [
    "# While \n",
    "\n",
    "Repetitive processing\n",
    "\n",
    "    while <condition>:\n",
    "        # process\n",
    "\n",
    "* While **\\<condition>** is *True*, the **process** runs\n",
    "* Until **\\<condition>** becomes *False*, the **process** runs\n",
    "\n",
    "\n"
   ]
  },
  {
   "cell_type": "code",
   "execution_count": null,
   "metadata": {
    "slideshow": {
     "slide_type": "notes"
    }
   },
   "outputs": [],
   "source": [
    "IPython.display.Audio(\"voice/while_statement.mp3\")"
   ]
  },
  {
   "cell_type": "markdown",
   "metadata": {
    "slideshow": {
     "slide_type": "notes"
    }
   },
   "source": [
    "while-statemet is one of the statements to repeat a process. The format is simlar to if-statement.\n",
    "\n",
    "If the condition becomes *True*, the process is repeated. In other words, the process is repeated until the condition becomes *False*. So, the condition must become *False* after a while in the repeated process somehow. Otherwise, the repeating will never end.\n",
    "\n",
    "Let's see the example below."
   ]
  },
  {
   "cell_type": "code",
   "execution_count": null,
   "metadata": {
    "slideshow": {
     "slide_type": "subslide"
    }
   },
   "outputs": [],
   "source": [
    "x = 0\n",
    "while x <= 10:\n",
    "    print(x)\n",
    "    x += 1\n",
    "\n",
    "# Q: How many times print() runs?"
   ]
  },
  {
   "cell_type": "code",
   "execution_count": null,
   "metadata": {
    "slideshow": {
     "slide_type": "subslide"
    }
   },
   "outputs": [],
   "source": [
    "# Quiz\n",
    "x = 0\n",
    "a = 0.0\n",
    "while x < 10:\n",
    "    print(x)\n",
    "    x += 1\n",
    "    a += 0.1\n",
    "print(a == 1.0) #=> True or False?"
   ]
  },
  {
   "cell_type": "markdown",
   "metadata": {
    "slideshow": {
     "slide_type": "slide"
    }
   },
   "source": [
    "# For \n",
    "\n",
    "Repetitive processing\n",
    "\n",
    "    for <variable> in <list>:\n",
    "        # process\n",
    "\n",
    "* Each element of **\\<list>** is assigned to **\\<variable>** in order and repeat the **process**\n",
    "\n"
   ]
  },
  {
   "cell_type": "code",
   "execution_count": null,
   "metadata": {
    "slideshow": {
     "slide_type": "notes"
    }
   },
   "outputs": [],
   "source": [
    "IPython.display.Audio(\"voice/for_statement.mp3\")"
   ]
  },
  {
   "cell_type": "markdown",
   "metadata": {
    "slideshow": {
     "slide_type": "notes"
    }
   },
   "source": [
    "for-statement is another repeating statement, but a little bit more complicated and it is nice to use it with a *List* object.\n",
    "\n",
    "Each element of the *List* is assigned to the variable and repeating the process. You can use the element information in the process but you do not have to.\n",
    "\n",
    "The nice point of for-loop is that it is guaranteed the repeating will finish, and we can know how many times the process will be repeated in advance.\n",
    "\n",
    "Let's see the example below.\n"
   ]
  },
  {
   "cell_type": "code",
   "execution_count": null,
   "metadata": {
    "slideshow": {
     "slide_type": "subslide"
    }
   },
   "outputs": [],
   "source": [
    "list1 = [1, 3, 5, 7]\n",
    "for i in list1:\n",
    "    print(i)"
   ]
  },
  {
   "cell_type": "code",
   "execution_count": null,
   "metadata": {
    "slideshow": {
     "slide_type": "subslide"
    }
   },
   "outputs": [],
   "source": [
    "# While instead For\n",
    "\n",
    "list1 = [1, 3, 5, 7]\n",
    "i = 0\n",
    "while i < len(list1):\n",
    "    print(list1[i])\n",
    "    i += 1"
   ]
  },
  {
   "cell_type": "code",
   "execution_count": null,
   "metadata": {
    "slideshow": {
     "slide_type": "notes"
    }
   },
   "outputs": [],
   "source": [
    "IPython.display.Audio(\"voice/while_and_for.mp3\")"
   ]
  },
  {
   "cell_type": "markdown",
   "metadata": {
    "slideshow": {
     "slide_type": "notes"
    }
   },
   "source": [
    "As you can see in the example above, the same process can be implemented either *while* or *for*, but if you repeat the process with a *List* object, the for-loop is nice and easy to handle.\n",
    "\n",
    "Without a certain *List* object, you can generate a simple sequential *List* object by *range()* function.\n",
    "\n",
    "Let's see other examples below.\n"
   ]
  },
  {
   "cell_type": "markdown",
   "metadata": {
    "slideshow": {
     "slide_type": "slide"
    }
   },
   "source": [
    "# For tips\n",
    "\n",
    "A certain number of times of iteration\n",
    "\n",
    "    for i in range(0, n):\n",
    "        print(i)\n",
    "\n",
    "* The variable *i* is printed *n* times with increment\n",
    "\n"
   ]
  },
  {
   "cell_type": "code",
   "execution_count": null,
   "metadata": {
    "slideshow": {
     "slide_type": "subslide"
    }
   },
   "outputs": [],
   "source": [
    "for i in range(0, 4):\n",
    "    print(i)"
   ]
  },
  {
   "cell_type": "code",
   "execution_count": null,
   "metadata": {
    "slideshow": {
     "slide_type": "subslide"
    }
   },
   "outputs": [],
   "source": [
    "list1 = [1, 3, 5, 7]\n",
    "for i in range(0, 4):\n",
    "    print(list1[i])"
   ]
  },
  {
   "cell_type": "code",
   "execution_count": null,
   "metadata": {
    "slideshow": {
     "slide_type": "subslide"
    }
   },
   "outputs": [],
   "source": [
    "list1 = [1, 3, 5, 7]\n",
    "for i in range(0, len(list1)):\n",
    "    print(list1[i])"
   ]
  },
  {
   "cell_type": "code",
   "execution_count": null,
   "metadata": {
    "slideshow": {
     "slide_type": "subslide"
    }
   },
   "outputs": [],
   "source": [
    "# Example1: Calculate the sum of a list\n",
    "\n",
    "list1 = [1, 2, 3, 4, 5, 6]\n",
    "total = 0             \n",
    "for i in list1:      \n",
    "    total += i      \n",
    "print(\"total =\", total)\n"
   ]
  },
  {
   "cell_type": "code",
   "execution_count": null,
   "metadata": {
    "slideshow": {
     "slide_type": "subslide"
    }
   },
   "outputs": [],
   "source": [
    "# Example1\n",
    "# Break it down when you are confused about repeat process (specialization)\n",
    "\n",
    "list1 = [1, 2, 3, 4, 5, 6]\n",
    "total = 0             \n",
    "\n",
    "total += list1[0]\n",
    "total += list1[1]\n",
    "total += list1[2]\n",
    "total += list1[3]\n",
    "total += list1[4]\n",
    "total += list1[5]\n",
    "\n",
    "print(total)"
   ]
  },
  {
   "cell_type": "code",
   "execution_count": null,
   "metadata": {
    "slideshow": {
     "slide_type": "subslide"
    }
   },
   "outputs": [],
   "source": [
    "# Example1\n",
    "# Break it down when you are confused about repeat process (specialization)\n",
    "\n",
    "list1 = [1, 2, 3, 4, 5, 6]\n",
    "total = 0             \n",
    "\n",
    "total = total + list1[0]\n",
    "total = total + list1[1]\n",
    "total = total + list1[2]\n",
    "total = total + list1[3]\n",
    "total = total + list1[4]\n",
    "total = total + list1[5]\n",
    "\n",
    "print(total)"
   ]
  },
  {
   "cell_type": "code",
   "execution_count": null,
   "metadata": {
    "slideshow": {
     "slide_type": "subslide"
    }
   },
   "outputs": [],
   "source": [
    "# Example1\n",
    "# Another way (inspiration!!)\n",
    "\n",
    "list1 = [1, 2, 3, 4, 5, 6]\n",
    "print(\"total =\", sum(list1))\n",
    "\n",
    "# sum() is a built-in function to calculate the sum of a list\n"
   ]
  },
  {
   "cell_type": "code",
   "execution_count": null,
   "metadata": {
    "slideshow": {
     "slide_type": "subslide"
    }
   },
   "outputs": [],
   "source": [
    "# Example1\n",
    "# Yet another way (inspiration!!)\n",
    "\n",
    "print(\"total =\", sum(range(1, 7)))\n",
    "\n",
    "# range() is also a built-in function to generate sequential list"
   ]
  },
  {
   "cell_type": "markdown",
   "metadata": {
    "slideshow": {
     "slide_type": "slide"
    }
   },
   "source": [
    "# Mini-Summary\n",
    "\n",
    "Generalization\n",
    "\n",
    "* In order to process each element of *list*, use *for*\n",
    "\n",
    "\n",
    "    for <variable> in <list>:\n",
    "        # process for each element\n",
    "\n",
    "\n"
   ]
  },
  {
   "cell_type": "markdown",
   "metadata": {
    "slideshow": {
     "slide_type": "slide"
    }
   },
   "source": [
    "# Summary\n",
    "\n",
    "* Data type: Numeric, String, Boolean\n",
    "* Data Strucutre: *List*, *Set*\n",
    "* Flow Control: *if*, *while*, *for*"
   ]
  },
  {
   "cell_type": "markdown",
   "metadata": {
    "slideshow": {
     "slide_type": "slide"
    }
   },
   "source": [
    "# Question?"
   ]
  },
  {
   "cell_type": "markdown",
   "metadata": {
    "slideshow": {
     "slide_type": "subslide"
    }
   },
   "source": [
    "- **You should design an algorithm to solve a problem by using these items**\n",
    "- Nucleotide Diversity and Tajima's D can be implemented using these items"
   ]
  },
  {
   "cell_type": "markdown",
   "metadata": {
    "slideshow": {
     "slide_type": "fragment"
    }
   },
   "source": [
    "Note\n",
    "- You can use AI, but I would suggest thinking by yourself first, otherwise you cannot improve your thinking skills in programming"
   ]
  },
  {
   "cell_type": "code",
   "execution_count": null,
   "metadata": {
    "slideshow": {
     "slide_type": "notes"
    }
   },
   "outputs": [],
   "source": [
    "IPython.display.Audio(\"voice/summary_day1_part1.mp3\")"
   ]
  },
  {
   "cell_type": "markdown",
   "metadata": {
    "slideshow": {
     "slide_type": "notes"
    }
   },
   "source": [
    "Now, you have reviewed the important Python components: Data structure and flow statements.\n",
    "\n",
    "Let's do the exercise of the part 1 below.\n",
    "\n",
    "But if you think it is too easy, you can skip it, and please go on to the part2.\n"
   ]
  }
 ],
 "metadata": {
  "celltoolbar": "Slideshow",
  "kernelspec": {
   "display_name": "Python 3 (ipykernel)",
   "language": "python",
   "name": "python3"
  },
  "language_info": {
   "codemirror_mode": {
    "name": "ipython",
    "version": 3
   },
   "file_extension": ".py",
   "mimetype": "text/x-python",
   "name": "python",
   "nbconvert_exporter": "python",
   "pygments_lexer": "ipython3",
   "version": "3.10.10"
  }
 },
 "nbformat": 4,
 "nbformat_minor": 4
}
