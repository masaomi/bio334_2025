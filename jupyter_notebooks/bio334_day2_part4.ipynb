{
 "cells": [
  {
   "cell_type": "markdown",
   "metadata": {
    "slideshow": {
     "slide_type": "slide"
    }
   },
   "source": [
    "# Bio334 Practical Bioinformatics\n",
    "\n",
    "The 2nd module, 14-16, May, 2025\n",
    "\n",
    "## Masaomi Hatakeyama\n",
    "- GitHab https://github.com/masaomi/bio334_2025\n",
    "- TAs: Narjes Yousefi,  Kenji Yip Tong"
   ]
  },
  {
   "cell_type": "markdown",
   "metadata": {
    "slideshow": {
     "slide_type": "slide"
    }
   },
   "source": [
    "# Day2 Part4\n",
    "\n",
    "Tajima's D calculation\n",
    "\n"
   ]
  },
  {
   "cell_type": "code",
   "execution_count": null,
   "metadata": {
    "slideshow": {
     "slide_type": "notes"
    }
   },
   "outputs": [],
   "source": [
    "import IPython.display\n",
    "IPython.display.Audio(\"voice/day2_part4.mp3\")"
   ]
  },
  {
   "cell_type": "markdown",
   "metadata": {
    "slideshow": {
     "slide_type": "notes"
    }
   },
   "source": [
    "In this part, we will finally complete Tajima's D implementation. \n",
    "\n",
    "The remaining part is the denominator of the fraction, the standard deviation of the small *d*. \n",
    "\n",
    "But actually, we cannot know the value. So, we will estimate the value by using the formula in the original paper.\n",
    "\n",
    "The same equation is written in the Wikipedia.\n",
    "\n",
    "The equation looks complicated, but it is not so difficult. It has only addition, subtraction, multiplication, and division. \n",
    "\n",
    "Just one thing note that the large *S* in the Wikipedia equation is the total number of segregating sites, it is not the small *s* in the Tajima's D formula below.\n",
    "\n",
    "*k hat* is not the small *pi*, but it is usually expressed by large *PI*, which is not divided by the length of the sequence.\n",
    "\n",
    "If you have a question, please do not hesitate to ask in Slack.\n"
   ]
  },
  {
   "cell_type": "markdown",
   "metadata": {
    "slideshow": {
     "slide_type": "slide"
    }
   },
   "source": [
    "# Tajima's D\n",
    "\n",
    "\n",
    "  $Tajima's D = \\frac{d}{\\sqrt{V(d)}}, d = \\pi - s/\\sum_{i=1}^{n-1}{\\frac{1}{i}}$\n",
    "\n",
    "* $\\pi$: nucleotide diversity\n",
    "* $s$: rate of segregating site = (number of segregating sites) / (length of sequence)\n",
    "* $n$: number of sequences\n",
    "\n"
   ]
  },
  {
   "cell_type": "markdown",
   "metadata": {
    "slideshow": {
     "slide_type": "skip"
    }
   },
   "source": [
    "\n",
    "- Reference: [Tajima, F. Genetics 123, 585–95, 1989](https://www.ncbi.nlm.nih.gov/pmc/articles/PMC1203831/)\n",
    "- http://en.wikipedia.org/wiki/Tajima's_D\n",
    "\n",
    "\n"
   ]
  },
  {
   "cell_type": "markdown",
   "metadata": {
    "slideshow": {
     "slide_type": "slide"
    }
   },
   "source": [
    "# Estimated SD of $d$\n",
    "\n",
    "<img src=\"https://raw.githubusercontent.com/masaomi/bio334_2025/main/jupyter_notebooks/png/estimated_d_sd2.png\" width=100%>\n",
    "\n",
    "[Wikipedia:TajimasD](https://en.wikipedia.org/wiki/Tajima%27s_D)\n",
    "\n"
   ]
  },
  {
   "cell_type": "markdown",
   "metadata": {
    "slideshow": {
     "slide_type": "subslide"
    }
   },
   "source": [
    "Note\n",
    "- $S$ (large S) in the formula above is the number of segregating sites, **NOT** the rate of segregating sites\n",
    "- i.e. The small $d$ above is not same to the small $d$ in the the following equation:\n",
    "\n",
    "  $Tajima's D = \\frac{d}{\\sqrt{V(d)}}, d = \\pi - s/\\sum_{i=1}^{n-1}{\\frac{1}{i}}$\n",
    "\n"
   ]
  },
  {
   "cell_type": "markdown",
   "metadata": {
    "slideshow": {
     "slide_type": "subslide"
    }
   },
   "source": [
    "\n",
    "  $\\pi = \\frac{\\hat{k}}{length(sequence)} = \\frac{\\Pi}{length(sequence)}$\n",
    "  \n",
    "  $s = \\frac{S}{length(sequence)}$\n",
    "  \n",
    "  $S = $  the number of segregating sites\n"
   ]
  },
  {
   "cell_type": "markdown",
   "metadata": {
    "slideshow": {
     "slide_type": "slide"
    }
   },
   "source": [
    "# What is Tajima's D?\n",
    "\n",
    "* calculated pi vs. estimated pi (from the number of segregating sites)\n",
    "* constant population and no natural selection $\\Rightarrow d = 0$\n",
    "* higher heterozygous sites$\\Rightarrow d > 0$\n",
    "* lower heterozygous sites $\\Rightarrow d < 0$\n",
    "\n",
    "Q: What is high/low heterozygous site? Singleton?\n"
   ]
  },
  {
   "cell_type": "markdown",
   "metadata": {
    "slideshow": {
     "slide_type": "notes"
    }
   },
   "source": [
    "* Explain the typical cases in white board"
   ]
  },
  {
   "cell_type": "code",
   "execution_count": null,
   "metadata": {
    "slideshow": {
     "slide_type": "notes"
    }
   },
   "outputs": [],
   "source": [
    "IPython.display.Audio(\"voice/tajimasd_meaning1.mp3\")"
   ]
  },
  {
   "cell_type": "markdown",
   "metadata": {
    "slideshow": {
     "slide_type": "notes"
    }
   },
   "source": [
    "Now you can start the exercise, but just please let me quickly check again the meaning of the Tajima's D.\n",
    "\n",
    "Tajima's D is actually the comparison between the calculated nucleotide diversity and the estimated nucleotide diversity from the number of segregating sites.\n",
    "\n",
    "In theory, under the constant population and no natural selection, I mean, under the neutral condition, the Tajima's D should be plus/minus zero, which means the calculated nucleotide diversity and the estimation from the number of SNP sites should be the same.\n",
    "\n",
    "The positive D means the calculated actual nucleotide diversity is higher than the estimation, that is, the population has more high heterozygous sites than neutral, and negative D suggests the opposite, more low heterozygous sites than the neutral.\n",
    "\n",
    "I will show you this effect by simulation below. \n",
    "\n",
    "Another good point to use computer programming is simulation. We can test a mathematical model numerically by setting any kind of condition virtually.\n",
    "\n",
    "If you are not interested in a computer simulation or numerical experiment, please skip below and go on to the exercise.\n"
   ]
  },
  {
   "cell_type": "markdown",
   "metadata": {
    "slideshow": {
     "slide_type": "slide"
    }
   },
   "source": [
    "# Why programming?\n",
    "\n",
    "* **Reusability**: Reproducibility, you can calculate with just one command type\n",
    "* **Batch process**: Automation, computer can work while you are sleeping\n",
    "* **Understanding**: It helps you to learn algorithms\n",
    "\n",
    "\n",
    "\n"
   ]
  },
  {
   "cell_type": "markdown",
   "metadata": {
    "slideshow": {
     "slide_type": "fragment"
    }
   },
   "source": [
    "\n",
    "* <font color=red>**Computer simulation**</font>\n",
    "\n",
    "\n"
   ]
  },
  {
   "cell_type": "markdown",
   "metadata": {
    "slideshow": {
     "slide_type": "slide"
    }
   },
   "source": [
    "# Wright-Fisher Model\n",
    "\n",
    "Assuming\n",
    "* Haploid population\n",
    "* Constant population size\n",
    "* No natural selection (Random selection)\n",
    "* Point nucletide mutation\n",
    "\n"
   ]
  },
  {
   "cell_type": "code",
   "execution_count": null,
   "metadata": {
    "slideshow": {
     "slide_type": "notes"
    }
   },
   "outputs": [],
   "source": [
    "IPython.display.Audio(\"voice/wright_fisher_model.mp3\")"
   ]
  },
  {
   "cell_type": "markdown",
   "metadata": {
    "slideshow": {
     "slide_type": "notes"
    }
   },
   "source": [
    "Here, I will introduce the most popular model in population genetics, called the Wright-Fisher model. In this model, the following conditions are assumed.\n",
    "\n",
    "1. Haploid population\n",
    "2. Constant population size\n",
    "3. No natural selection\n",
    "4. Only point mutation happens, no recombination, no structural variant happens, and so on.\n",
    "\n",
    "It means that this model can simulate the effect of genetic drift.\n",
    "\n",
    "If you want to know more detail, please refer to Wikipedia, search by Google, or just ask me.\n"
   ]
  },
  {
   "cell_type": "markdown",
   "metadata": {
    "slideshow": {
     "slide_type": "slide"
    }
   },
   "source": [
    "# Marbles in a Jar (Analogy) \n",
    "\n",
    "<center>\n",
    "    <img src=\"https://raw.githubusercontent.com/masaomi/bio334_2025/main/jupyter_notebooks/png/random_sampling.png\" width=60%>\n",
    "</center>\n",
    "\n",
    "* 20 marbles in a jar\n",
    "* colors correspond to two different alleles\n",
    "* In each new generation the organisms reproduce at random\n",
    "\n",
    "\n",
    "\n",
    "[Wikipedia, genetic drift](https://en.wikipedia.org/wiki/Genetic_drift)"
   ]
  },
  {
   "cell_type": "markdown",
   "metadata": {
    "slideshow": {
     "slide_type": "subslide"
    }
   },
   "source": [
    "# Simulation\n",
    "\n",
    "1. Population of nucleotide sequences\n",
    "2. Produce a new generation\n",
    "    1. select one sequence at random\n",
    "    2. point mutation \n",
    "    3. add it in a new population\n",
    "3. Repeat (2)\n",
    "\n",
    "\n"
   ]
  },
  {
   "cell_type": "markdown",
   "metadata": {
    "slideshow": {
     "slide_type": "subslide"
    }
   },
   "source": [
    "\n",
    "### WF Model \n",
    "\n",
    "Parameters\n",
    "\n",
    "* Population size (number of sequences)\n",
    "* Length of sequence\n",
    "* Point mutation rate\n",
    "* Generation (iteration time)\n",
    "\n"
   ]
  },
  {
   "cell_type": "code",
   "execution_count": null,
   "metadata": {
    "slideshow": {
     "slide_type": "notes"
    }
   },
   "outputs": [],
   "source": [
    "IPython.display.Audio(\"voice/wright_fisher_simulation.mp3\")"
   ]
  },
  {
   "cell_type": "markdown",
   "metadata": {
    "slideshow": {
     "slide_type": "notes"
    }
   },
   "source": [
    "In this simulation, the calculation steps are as follows:\n",
    "\n",
    "1. Initializing the population\n",
    "2. repeating the generations\n",
    "\n",
    "in one generation, three things happen\n",
    "\n",
    "1. selecting one sequence at random\n",
    "2. inserting point mutations\n",
    "3. adding it in a new population\n",
    "\n",
    "This is continued until it becomes the fixed population size in the next generation.\n",
    "\n",
    "To simplify in this simulation, I have not inserted the cross-over step.\n"
   ]
  },
  {
   "cell_type": "markdown",
   "metadata": {
    "slideshow": {
     "slide_type": "subslide"
    }
   },
   "source": [
    "# Allele Frequency\n",
    "\n",
    "without mutation, Population *n*=20\n",
    "\n",
    "<center>\n",
    "    <img src=\"https://raw.githubusercontent.com/masaomi/bio334_2025/main/jupyter_notebooks/png/Random_genetic_drift_chart1.png\">\n",
    "</center>\n",
    "\n",
    "[Wikipedia, genetic drift](https://en.wikipedia.org/wiki/Genetic_drift)\n",
    "\n"
   ]
  },
  {
   "cell_type": "markdown",
   "metadata": {
    "slideshow": {
     "slide_type": "subslide"
    }
   },
   "source": [
    "Without mutation, Population *n*=200\n",
    "\n",
    "<center>\n",
    "    <img src=\"https://raw.githubusercontent.com/masaomi/bio334_2025/main/jupyter_notebooks/png/Random_genetic_drift_chart2.png\">\n",
    "</center>\n",
    "\n",
    "[Wikipedia, genetic drift](https://en.wikipedia.org/wiki/Genetic_drift)\n",
    "\n"
   ]
  },
  {
   "cell_type": "markdown",
   "metadata": {
    "slideshow": {
     "slide_type": "subslide"
    }
   },
   "source": [
    "Without mutation, Popuation *n*=2000\n",
    "\n",
    "<center>\n",
    "    <img src=\"https://raw.githubusercontent.com/masaomi/bio334_2025/main/jupyter_notebooks/png/Random_genetic_drift_chart3.png\">\n",
    "</center>\n",
    "\n",
    "[Wikipedia, genetic drift](https://en.wikipedia.org/wiki/Genetic_drift)\n",
    "\n"
   ]
  },
  {
   "cell_type": "code",
   "execution_count": null,
   "metadata": {
    "slideshow": {
     "slide_type": "notes"
    }
   },
   "outputs": [],
   "source": [
    "IPython.display.Audio(\"voice/wright_fisher_result1.mp3\")"
   ]
  },
  {
   "cell_type": "markdown",
   "metadata": {
    "slideshow": {
     "slide_type": "notes"
    }
   },
   "source": [
    "As you can see the results above, the dynamics is critically depending on the population size. \n",
    "\n",
    "If the population size becomes bigger and bigger, the allele frequency gets closer to a constant, that is, the infinite population size and the constant allele frequency, which are actually a part of the assumptions in Hardy-Weinberg law.\n"
   ]
  },
  {
   "cell_type": "markdown",
   "metadata": {
    "slideshow": {
     "slide_type": "slide"
    }
   },
   "source": [
    "# No Mutation\n",
    "\n",
    "Number of segregating sites, it becomes zero\n",
    "\n",
    "<center>\n",
    "    <img src=\"https://raw.githubusercontent.com/masaomi/bio334_2025/main/jupyter_notebooks/png/seg_sites_without_mutation.png\" width=50%>\n",
    "</center>\n",
    "\n",
    "\n"
   ]
  },
  {
   "cell_type": "markdown",
   "metadata": {
    "slideshow": {
     "slide_type": "subslide"
    }
   },
   "source": [
    "# No Mutation\n",
    "\n",
    "Nucleotide Diversity, it becomes zero\n",
    "\n",
    "<center>\n",
    "    <img src=\"https://raw.githubusercontent.com/masaomi/bio334_2025/main/jupyter_notebooks/png/nd_without_mutation.png\" width=50%>\n",
    "</center>\n",
    "\n",
    "\n"
   ]
  },
  {
   "cell_type": "markdown",
   "metadata": {
    "slideshow": {
     "slide_type": "subslide"
    }
   },
   "source": [
    "# No Mutation\n",
    "\n",
    "Tajima's D, it goes to minus\n",
    "\n",
    "<center>\n",
    "    <img src=\"https://raw.githubusercontent.com/masaomi/bio334_2025/main/jupyter_notebooks/png/td_without_mutation.png\" width=50%>\n",
    "</center>\n",
    "\n",
    "\n"
   ]
  },
  {
   "cell_type": "code",
   "execution_count": null,
   "metadata": {
    "slideshow": {
     "slide_type": "notes"
    }
   },
   "outputs": [],
   "source": [
    "IPython.display.Audio(\"voice/wright_fisher_result2.mp3\")"
   ]
  },
  {
   "cell_type": "markdown",
   "metadata": {
    "slideshow": {
     "slide_type": "notes"
    }
   },
   "source": [
    "If there is no mutation, at the end of the generations, all the alleles will be gone, and no segregating site is left, which means that the nucleotide diversity becomes zero.\n",
    "\n",
    "I know this will never happen in the real world, but it is good to understand the model by simulation. \n"
   ]
  },
  {
   "cell_type": "markdown",
   "metadata": {
    "slideshow": {
     "slide_type": "slide"
    }
   },
   "source": [
    "# With Mutation\n",
    "\n",
    "Number of segregating sites, it becomes constant but flactuating\n",
    "\n",
    "<center>\n",
    "    <img src=\"https://raw.githubusercontent.com/masaomi/bio334_2025/main/jupyter_notebooks/png/seg_sites_with_mutation.png\" width=50%>\n",
    "</center>\n",
    "\n",
    "\n"
   ]
  },
  {
   "cell_type": "markdown",
   "metadata": {
    "slideshow": {
     "slide_type": "subslide"
    }
   },
   "source": [
    "# With Mutation\n",
    "\n",
    "Nucleotide Diversity, both becomes same\n",
    "\n",
    "<center>\n",
    "    <img src=\"https://raw.githubusercontent.com/masaomi/bio334_2025/main/jupyter_notebooks/png/nd_with_mutation.png\" width=50%>\n",
    "</center>\n",
    "\n",
    "\n"
   ]
  },
  {
   "cell_type": "markdown",
   "metadata": {
    "slideshow": {
     "slide_type": "subslide"
    }
   },
   "source": [
    "# With Mutation\n",
    "\n",
    "Tajima's D, it keeps around zero, but fluctuating\n",
    "\n",
    "<center>\n",
    "    <img src=\"https://raw.githubusercontent.com/masaomi/bio334_2025/main/jupyter_notebooks/png/td_with_mutation.png\" width=50%>\n",
    "</center>\n"
   ]
  },
  {
   "cell_type": "code",
   "execution_count": null,
   "metadata": {
    "slideshow": {
     "slide_type": "notes"
    }
   },
   "outputs": [],
   "source": [
    "IPython.display.Audio(\"voice/wright_fisher_result3.mp3\")"
   ]
  },
  {
   "cell_type": "markdown",
   "metadata": {
    "slideshow": {
     "slide_type": "notes"
    }
   },
   "source": [
    "If the mutation is inserted in the model, the nucleotide diversity will be constant with fluctuation. and Tajima's D becomes zero, but fluctuated. The range of the fluctuation depends on the mutation rate and the population size.\n",
    "\n",
    "This is the effect of genetic drift under neutral. The critical parameters in this model are mutation rate and population size.\n",
    "\n",
    "So, what can we learn from the model?\n",
    "\n",
    "I would say, the nucleotide diversity is fluctuated depending on the population size or population dynamics and mutation rate, and it will take some generations to become a constant, which is called transient time (or transient state). \n",
    "\n",
    "In the actual situation, the population size is not constant, so, I would say, the sampling strategy and/or sample size might become very critical for the calculation of the nucleotide diversity.\n"
   ]
  },
  {
   "cell_type": "markdown",
   "metadata": {
    "slideshow": {
     "slide_type": "slide"
    }
   },
   "source": [
    "# Tajima’s D > 0\n",
    "\n",
    "\n",
    "$\\pi > \\theta_w = \\frac{s}{\\sum_{i=1}^{n-1} \\frac{1}{i}}$\n",
    "\n",
    "- **Excess of intermediate-frequency variants:**  \n",
    "  - **Population bottleneck or structure:**  \n",
    "    - Recent bottlenecks can reduce the number of rare variants (e.g., singletons), while older variants at moderate frequencies may persist.  \n",
    "    - Subdivided populations may maintain different allele frequencies, leading to an excess of intermediate-frequency polymorphisms.\n",
    "  - **Balancing selection (e.g., heterozygote advantage):** Maintains multiple alleles at moderate frequencies, increasing the average pairwise differences (π).\n"
   ]
  },
  {
   "cell_type": "markdown",
   "metadata": {
    "slideshow": {
     "slide_type": "subslide"
    }
   },
   "source": [
    "# Tajima’s D < 0\n",
    "\n",
    "  $\\pi < \\theta_w = \\frac{s}{\\sum_{i=1}^{n-1} \\frac{1}{i}}$\n",
    "\n",
    "- **Excess of rare variants (e.g., singletons):**  \n",
    "  - **Rapid population expansion:**  \n",
    "    - New mutations accumulate, introducing many rare alleles (singletons), lowering the average pairwise difference (π).\n",
    "  - **Positive or purifying selection:**  \n",
    "    - **Directional selection / Selective sweep:** A beneficial mutation rises quickly in frequency, reducing variation in nearby regions.\n",
    "    - **Purifying selection:** Deleterious mutations are removed, reducing intermediate-frequency variants.\n"
   ]
  },
  {
   "cell_type": "code",
   "execution_count": null,
   "metadata": {
    "slideshow": {
     "slide_type": "notes"
    }
   },
   "outputs": [],
   "source": [
    "IPython.display.Audio(\"voice/tajimasd_meaning2.mp3\")"
   ]
  },
  {
   "cell_type": "markdown",
   "metadata": {
    "slideshow": {
     "slide_type": "notes"
    }
   },
   "source": [
    "**What kinds of factors can cause deviations in nucleotide diversity and Tajima’s D from the neutral expectation?**\n",
    "\n",
    "Two major factors are changes in population size and natural selection.\n",
    "\n",
    "A **population bottleneck** reduces rare alleles, leaving only common ones. As a result, **π (nucleotide diversity)** may decrease slightly, but **θ (based on segregating sites)** decreases even more, leading to **a positive Tajima’s D**.\n",
    "\n",
    "In contrast, **a rapid population expansion** increases the number of rare variants (singletons), which **increases θ more than π**, making **Tajima’s D negative**.\n",
    "\n",
    "Similarly, **directional selection** (positive selection) can reduce diversity at selected loci, leading to **negative Tajima’s D**.\n",
    "\n",
    "On the other hand, **balancing selection** maintains multiple alleles at intermediate frequencies, increasing heterozygosity and resulting in **positive Tajima’s D**.\n"
   ]
  },
  {
   "cell_type": "markdown",
   "metadata": {
    "slideshow": {
     "slide_type": "slide"
    }
   },
   "source": [
    "# Example1\n",
    "The remaining part of *d* calculation\n",
    "\n",
    "        x = 0; n = 10\n",
    "        for i in range(1, n):\n",
    "            x += 1.0/i\n",
    "\n",
    "        a = [1.0/i for i in range(1, n)]\n",
    "        y = sum(a)\n",
    "\n",
    "        print(x); print(sum(a))\n",
    "\n"
   ]
  }
 ],
 "metadata": {
  "celltoolbar": "Slideshow",
  "kernelspec": {
   "display_name": "Python 3 (ipykernel)",
   "language": "python",
   "name": "python3"
  },
  "language_info": {
   "codemirror_mode": {
    "name": "ipython",
    "version": 3
   },
   "file_extension": ".py",
   "mimetype": "text/x-python",
   "name": "python",
   "nbconvert_exporter": "python",
   "pygments_lexer": "ipython3",
   "version": "3.10.10"
  }
 },
 "nbformat": 4,
 "nbformat_minor": 1
}
