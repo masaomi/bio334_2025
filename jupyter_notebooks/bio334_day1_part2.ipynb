{
 "cells": [
  {
   "cell_type": "markdown",
   "metadata": {
    "slideshow": {
     "slide_type": "slide"
    }
   },
   "source": [
    "# Bio334 Practical Bioinformatics\n",
    "\n",
    "The 2nd module, 14-16, May, 2025\n",
    "\n",
    "## Masaomi Hatakeyama\n",
    "- GitHab https://github/masaomi/bio334_2025\n",
    "- TAs: Narjes Yousefi,  Kenji Yip Tong"
   ]
  },
  {
   "cell_type": "markdown",
   "metadata": {
    "slideshow": {
     "slide_type": "slide"
    }
   },
   "source": [
    "# Day1 Part2\n",
    "\n",
    "Compare two lists\n",
    "\n"
   ]
  },
  {
   "cell_type": "code",
   "execution_count": null,
   "metadata": {
    "slideshow": {
     "slide_type": "notes"
    }
   },
   "outputs": [],
   "source": [
    "import IPython.display\n",
    "IPython.display.Audio(\"voice/day1_part2.mp3\")"
   ]
  },
  {
   "cell_type": "markdown",
   "metadata": {
    "slideshow": {
     "slide_type": "notes"
    }
   },
   "source": [
    "In this part, I will shortly introduce how to compare two lists. This technique will be applied to the comparison of two nucleotide sequences. Please look at the simple example below."
   ]
  },
  {
   "cell_type": "code",
   "execution_count": null,
   "metadata": {
    "slideshow": {
     "slide_type": "slide"
    }
   },
   "outputs": [],
   "source": [
    "list1 = [1, 2, 3, 4, 5, 6]\n",
    "list2 = [1, 2, 0, 4, 5, 0]\n",
    "    \n",
    "for i in range(0, len(list1)): \n",
    "    print(\"%s %s : \" % (list1[i], list2[i]), end = \"\")\n",
    "    if list1[i] == list2[i]:\n",
    "        print(\"True\")      \n",
    "    else:\n",
    "        print(\"False\")  "
   ]
  },
  {
   "cell_type": "code",
   "execution_count": null,
   "metadata": {
    "slideshow": {
     "slide_type": "notes"
    }
   },
   "outputs": [],
   "source": [
    "IPython.display.Audio(\"voice/day1_part2_example1_1.mp3\")"
   ]
  },
  {
   "cell_type": "markdown",
   "metadata": {
    "slideshow": {
     "slide_type": "notes"
    }
   },
   "source": [
    "This example compares two lists. More precisely speaking, it compares each element at the same position of the two lists. \n",
    "\n",
    "If you do not understand what happens, then let's look at the code one by one for each element.\n",
    "\n",
    "I would say, this is the deductive thinking way. To understand the code, deduction is important."
   ]
  },
  {
   "cell_type": "markdown",
   "metadata": {
    "slideshow": {
     "slide_type": "slide"
    }
   },
   "source": [
    "# Compare two Lists\n",
    "\n",
    "Break down the complicated part\n",
    "\n",
    "    for i in range(0, len(list1)): \n",
    "\n",
    "Q: What does this do?\n",
    "\n"
   ]
  },
  {
   "cell_type": "code",
   "execution_count": null,
   "metadata": {
    "slideshow": {
     "slide_type": "notes"
    }
   },
   "outputs": [],
   "source": [
    "IPython.display.Audio(\"voice/day1_part2_example1_2.mp3\")"
   ]
  },
  {
   "cell_type": "markdown",
   "metadata": {
    "slideshow": {
     "slide_type": "notes"
    }
   },
   "source": [
    "Probably you understand the first two lines. That is just definitions of two lists.\n",
    "\n",
    "What happens in the third line with for-loop?\n",
    "\n",
    "Let's break it down into smaller parts. Just please execute the following examples."
   ]
  },
  {
   "cell_type": "code",
   "execution_count": null,
   "metadata": {
    "slideshow": {
     "slide_type": "subslide"
    }
   },
   "outputs": [],
   "source": [
    "print(len(list1))"
   ]
  },
  {
   "cell_type": "code",
   "execution_count": null,
   "metadata": {
    "slideshow": {
     "slide_type": "fragment"
    }
   },
   "outputs": [],
   "source": [
    "print(range(0, 6))"
   ]
  },
  {
   "cell_type": "code",
   "execution_count": null,
   "metadata": {
    "slideshow": {
     "slide_type": "fragment"
    }
   },
   "outputs": [],
   "source": [
    "for i in range(0, len(list1)):\n",
    "    print(i)"
   ]
  },
  {
   "cell_type": "code",
   "execution_count": null,
   "metadata": {
    "slideshow": {
     "slide_type": "subslide"
    }
   },
   "outputs": [],
   "source": [
    "for i in [0,1,2,3,4,5]: \n",
    "    print(i)"
   ]
  },
  {
   "cell_type": "code",
   "execution_count": null,
   "metadata": {
    "slideshow": {
     "slide_type": "notes"
    }
   },
   "outputs": [],
   "source": [
    "IPython.display.Audio(\"voice/day1_part2_example1_3.mp3\")"
   ]
  },
  {
   "cell_type": "markdown",
   "metadata": {
    "slideshow": {
     "slide_type": "notes"
    }
   },
   "source": [
    "Hopefully, you have understood what happens. \n",
    "\n",
    "This for-loop repeats the processes 6 times by incrementing the variable, *i*, starting from 0 to (the length of the list -1)."
   ]
  },
  {
   "cell_type": "markdown",
   "metadata": {
    "slideshow": {
     "slide_type": "slide"
    }
   },
   "source": [
    "# Compare two Lists\n",
    "```\n",
    "list1 = [1, 2, 3, 4, 5, 6]\n",
    "list2 = [1, 2, 0, 4, 5, 0]\n",
    "    \n",
    "for i in [0, 1, 2, 3, 4, 5]: \n",
    "  print(\"%s %s : \" % (list1[i], list2[i]), \n",
    "  end = \"\")\n",
    "```\n",
    "* What does the *print()* do?\n",
    "\n",
    "\n"
   ]
  },
  {
   "cell_type": "markdown",
   "metadata": {
    "slideshow": {
     "slide_type": "notes"
    }
   },
   "source": [
    "The *print()* method just prints the each elements of the two lists"
   ]
  },
  {
   "cell_type": "code",
   "execution_count": null,
   "metadata": {
    "slideshow": {
     "slide_type": "subslide"
    }
   },
   "outputs": [],
   "source": [
    "list1 = [1, 2, 3, 4, 5, 6]\n",
    "list2 = [1, 2, 0, 4, 5, 0]\n",
    "\n",
    "for i in [0, 1, 2, 3, 4, 5]: \n",
    "    print(\"%s %s : \" % (list1[i], list2[i]), end = \"\")"
   ]
  },
  {
   "cell_type": "markdown",
   "metadata": {
    "slideshow": {
     "slide_type": "slide"
    }
   },
   "source": [
    "# Compare two Lists\n",
    "```\n",
    "print(\"%s %s : \" % (list1[i], list2[i]), end = \"\")\n",
    "```\n",
    "* *print(\"%s\" % variable)*: shows the variable at the %s part\n",
    "* *print(\"XXX\", end=\"\")*: without line break\n"
   ]
  },
  {
   "cell_type": "markdown",
   "metadata": {
    "slideshow": {
     "slide_type": "subslide"
    }
   },
   "source": [
    "# Compare two Lists\n",
    "\n",
    "    list1 = [1, 2, 3, 4, 5, 6]\n",
    "    list2 = [1, 2, 0, 4, 5, 0]\n",
    "    \n",
    "    for i in range(0, len(list1)): \n",
    "        if list1[i] == list2[i]:\n",
    "\n",
    "* What does this do?\n",
    "\n"
   ]
  },
  {
   "cell_type": "code",
   "execution_count": null,
   "metadata": {
    "slideshow": {
     "slide_type": "subslide"
    }
   },
   "outputs": [],
   "source": [
    "list1 = [1, 2, 3, 4, 5, 6]\n",
    "list2 = [1, 2, 0, 4, 5, 0]\n",
    "\n",
    "for i in range(0, len(list1)): \n",
    "    if list1[i] == list2[i]:\n",
    "        print(i, list1[i], list2[i], \"True\")"
   ]
  },
  {
   "cell_type": "code",
   "execution_count": null,
   "metadata": {
    "slideshow": {
     "slide_type": "notes"
    }
   },
   "outputs": [],
   "source": [
    "IPython.display.Audio(\"voice/day1_part2_example2_1.mp3\")"
   ]
  },
  {
   "cell_type": "markdown",
   "metadata": {
    "slideshow": {
     "slide_type": "notes"
    }
   },
   "source": [
    "This for-loop process compares each element of the two lists, \n",
    "\n",
    "and if the elements at the same position are same, the print method show the elements"
   ]
  },
  {
   "cell_type": "markdown",
   "metadata": {
    "slideshow": {
     "slide_type": "slide"
    }
   },
   "source": [
    "# Compare two Lists\n",
    "\n",
    "    list1 = [1, 2, 3, 4, 5, 6]\n",
    "    list2 = [1, 2, 0, 4, 5, 0]\n",
    "    \n",
    "    if list1[0] == list2[0]:\n",
    "    if list1[1] == list2[1]:\n",
    "    if list1[2] == list2[2]:\n",
    "    if list1[3] == list2[3]:\n",
    "    if list1[4] == list2[4]:\n",
    "    if list1[5] == list2[5]:\n",
    "\n",
    "* Compare each element \n",
    "\n"
   ]
  },
  {
   "cell_type": "code",
   "execution_count": null,
   "metadata": {
    "slideshow": {
     "slide_type": "notes"
    }
   },
   "outputs": [],
   "source": [
    "IPython.display.Audio(\"voice/day1_part2_example2_2.mp3\")"
   ]
  },
  {
   "cell_type": "markdown",
   "metadata": {
    "slideshow": {
     "slide_type": "notes"
    }
   },
   "source": [
    "If you are confused with the abstracted processes by for-loop, please break it down without for-statement.\n",
    "\n",
    "The process is actually same."
   ]
  },
  {
   "cell_type": "markdown",
   "metadata": {
    "slideshow": {
     "slide_type": "slide"
    }
   },
   "source": [
    "# Compare two Lists\n",
    "\n",
    "    list1 = [1, 2, 3, 4, 5, 6]\n",
    "    list2 = [1, 2, 0, 4, 5, 0]\n",
    "    \n",
    "    if list1[0] == list2[0]:\n",
    "        print(\"True\")      \n",
    "    else:\n",
    "        print(\"False\")  \n",
    "\n",
    "* Repeated 6 times for each element\n",
    "\n"
   ]
  },
  {
   "cell_type": "markdown",
   "metadata": {
    "slideshow": {
     "slide_type": "subslide"
    }
   },
   "source": [
    "# Compare two Lists\n",
    "\n",
    "    list1 = [1, 2, 3, 4, 5, 6]\n",
    "    list2 = [1, 2, 0, 4, 5, 0]\n",
    "    \n",
    "    for i in range(0, len(list1)): \n",
    "        print(\"%s %s: %s \" % (list1[i], list2[i], list1[i] == list2[i])\n",
    "\n",
    "* What is the difference?\n",
    "\n"
   ]
  },
  {
   "cell_type": "code",
   "execution_count": null,
   "metadata": {
    "slideshow": {
     "slide_type": "subslide"
    }
   },
   "outputs": [],
   "source": [
    "list1 = [1, 2, 3, 4, 5, 6]\n",
    "list2 = [1, 2, 0, 4, 5, 0]\n",
    "\n",
    "for i in range(0, len(list1)): \n",
    "    print(\"%s %s: %s \" % (list1[i], list2[i], list1[i] == list2[i]))"
   ]
  },
  {
   "cell_type": "markdown",
   "metadata": {
    "slideshow": {
     "slide_type": "slide"
    }
   },
   "source": [
    "# Mini-Summary\n",
    "\n",
    "generalization\n",
    "\n",
    "In order to compare the elements in **two lists**, use **for** and **if**\n",
    "```\n",
    "for <variable> in range(0, len(<list>)):\n",
    "  if <compare elements> :\n",
    "    # process for each condition\n",
    "```\n",
    "                "
   ]
  },
  {
   "cell_type": "code",
   "execution_count": null,
   "metadata": {
    "slideshow": {
     "slide_type": "notes"
    }
   },
   "outputs": [],
   "source": [
    "IPython.display.Audio(\"voice/summary_day1_part2.mp3\")"
   ]
  },
  {
   "cell_type": "markdown",
   "metadata": {
    "slideshow": {
     "slide_type": "notes"
    }
   },
   "source": [
    "Just let me summarize this part.\n",
    "\n",
    "I showed an example to compare two lists. In order to do that, I used the for-loop and if-branching flow. \n",
    "\n",
    "This pattern will be used a lot in other situations in the case of using the *List* data structure.\n",
    "\n",
    "Here, I can come back to the tips. you can generalize the idea.\n",
    "\n",
    "When you need to compare two lists, you can use this pattern, for-loop and if-branching.\n",
    "\n",
    "Now you have got the generalized idea to rewrite a lot of similar repeated processes into one or two code lines. \n",
    "\n",
    "It is the generalization.\n",
    "\n",
    "Then, let's do the exercise.\n"
   ]
  }
 ],
 "metadata": {
  "celltoolbar": "Slideshow",
  "kernelspec": {
   "display_name": "Python 3 (ipykernel)",
   "language": "python",
   "name": "python3"
  },
  "language_info": {
   "codemirror_mode": {
    "name": "ipython",
    "version": 3
   },
   "file_extension": ".py",
   "mimetype": "text/x-python",
   "name": "python",
   "nbconvert_exporter": "python",
   "pygments_lexer": "ipython3",
   "version": "3.10.10"
  }
 },
 "nbformat": 4,
 "nbformat_minor": 1
}
