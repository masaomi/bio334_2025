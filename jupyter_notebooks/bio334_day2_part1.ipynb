{
 "cells": [
  {
   "cell_type": "markdown",
   "metadata": {
    "slideshow": {
     "slide_type": "slide"
    }
   },
   "source": [
    "# Bio334 Practical Bioinformatics\n",
    "\n",
    "The 2nd module, 14-16, May, 2025\n",
    "\n",
    "## Masaomi Hatakeyama\n",
    "- GitHab https://github.com/masaomi/bio334_2025\n",
    "- TAs: Narjes Yousefi,  Kenji Yip Tong"
   ]
  },
  {
   "cell_type": "markdown",
   "metadata": {
    "slideshow": {
     "slide_type": "slide"
    }
   },
   "source": [
    "# Quieck Review\n",
    "\n",
    "1. Double loop for the combination of Lists\n",
    "2. *for* + *if* for the comparison of two sequences\n",
    "3. Nucleotide diversity (Advanced exercise yesterday, a milestone today)"
   ]
  },
  {
   "cell_type": "markdown",
   "metadata": {
    "slideshow": {
     "slide_type": "subslide"
    }
   },
   "source": [
    "# Tips\n",
    "\n",
    "1. **Deduction**: Drawing specific conclusions logically from general principles or laws.\n",
    "2. **Induction**: Observing multiple specific instances to identify patterns and generalize conclusions.\n",
    "3. **Abduction**: Formulating the most hypothesis based on observed data, often involving intuitive leaps or \"Aha!\" moments."
   ]
  },
  {
   "cell_type": "markdown",
   "metadata": {
    "slideshow": {
     "slide_type": "slide"
    }
   },
   "source": [
    "# Nucleotide Diversity\n",
    "\n",
    "<img src=\"https://raw.githubusercontent.com/masaomi/bio334_2025/main/jupyter_notebooks/png/pi.png\" width=50%>\n",
    "\n",
    "- $d $: number of nucleotide differences\n",
    "- $n $: number of sequences\n",
    "- $l $: length of sequence\n"
   ]
  },
  {
   "cell_type": "markdown",
   "metadata": {
    "slideshow": {
     "slide_type": "slide"
    }
   },
   "source": [
    "# Nucleotide Diversity, Mean pairwise difference\n",
    "\n",
    "$\\Pi = \\frac{\\sum_{i<j}d_{ij}}{{}_n \\mathrm{C}_2}$\n",
    "\n",
    "$\\pi = \\frac{\\sum_{i<j}d_{ij}}{{}_n \\mathrm{C}_2l} = \\frac{\\Pi}{l} = \\frac{\\sum_{i<j}\\pi_{ij}}{{}_n \\mathrm{C}_2} = \\frac{\\sum_{i<j}\\frac{d_{ij}}{l}}{{}_n \\mathrm{C}_2}$\n",
    "\n",
    "- $\\Pi $:Mean pairwise difference\n",
    "- $\\pi $: nucleotide diversity\n",
    "\n",
    "\n"
   ]
  },
  {
   "cell_type": "markdown",
   "metadata": {
    "slideshow": {
     "slide_type": "slide"
    }
   },
   "source": [
    "# Today\n",
    "\n",
    "1. Part1(9-10) File I/O\n",
    "2. **Part2(10-11) Method, PI** (<font color=gray>*Milestone*</font>)\n",
    "3. Part3(11-12) Segregating site\n",
    "4. **Part4(13-15) Tajima's D** (<font color=gray>*Milestone*</font>)\n",
    "5. Part5(15-17) Batch process, module\n"
   ]
  },
  {
   "cell_type": "markdown",
   "metadata": {
    "slideshow": {
     "slide_type": "subslide"
    }
   },
   "source": [
    "## Lectures (<font color=gray>*plan*</font>)\n",
    "\n",
    "1.  9:00- (10min)\n",
    "2. 10:00- (10min)\n",
    "3. 11:00- (10min)\n",
    "4. 13:00- (10min)\n",
    "5. 15:00- (10min)\n"
   ]
  },
  {
   "cell_type": "code",
   "execution_count": null,
   "metadata": {
    "slideshow": {
     "slide_type": "notes"
    }
   },
   "outputs": [],
   "source": [
    "import IPython.display\n",
    "IPython.display.Audio(\"voice/day2_part1.mp3\")"
   ]
  },
  {
   "cell_type": "markdown",
   "metadata": {
    "slideshow": {
     "slide_type": "notes"
    }
   },
   "source": [
    "Today, we will focus on more details and applications. \n",
    "\n",
    "The code will become more complicated, but just keep in mind one thing. \n",
    "\n",
    "If you get confused with the code, please break it down into smaller parts, elements, and think the process logically step by step, and integrate the piece of blocks as a whole. \n",
    "\n",
    "Breaking and integration. That's the most important thing in both science and programming."
   ]
  },
  {
   "cell_type": "markdown",
   "metadata": {
    "slideshow": {
     "slide_type": "slide"
    }
   },
   "source": [
    "# Why programming?\n",
    "\n",
    "1. **Reusability**: Reproducibility, you can calculate with just one command type again\n",
    "2. **Batch process**: Automation, computer can work while you are sleeping\n",
    "3. **Understanding**: It helps you to learn algorithms behind a problem, and it improves your logical thinking ability\n",
    "\n"
   ]
  },
  {
   "cell_type": "code",
   "execution_count": null,
   "metadata": {
    "slideshow": {
     "slide_type": "notes"
    }
   },
   "outputs": [],
   "source": [
    "IPython.display.Audio(\"voice/why_programming.mp3\")"
   ]
  },
  {
   "cell_type": "markdown",
   "metadata": {
    "slideshow": {
     "slide_type": "notes"
    }
   },
   "source": [
    "First of all, I have a question. \n",
    "\n",
    "Why are you learning computer programming?\n",
    "\n",
    "In my opinion, there are three good points you should keep in mind in computer programming regardless of programming language.\n",
    "\n",
    "Reusability, batch processing, and understanding.\n",
    "\n",
    "The programmining code is reusable.\n",
    "You can use the source code many times once you make it, you can use the source code again in another time, situation, repeatedly. This will maintain the reproducibility of the calculation result.\n",
    "\n",
    "The programming is batch process.\n",
    "A computer program processes many things at once, in other words, the many complicated processes are automized.\n",
    "\n",
    "Making a programming code improves your understanding.\n",
    "By implementing an algorithm, calculation steps, you understand it more concretely. implementing the code means that you understand the process well. \n",
    "\n",
    "This will be proven after you finish this module, and compare your knowledge before and after the course. Hopefully, you will feel that you get a more clear idea about nucleotide diversity than before.\n"
   ]
  },
  {
   "cell_type": "markdown",
   "metadata": {
    "slideshow": {
     "slide_type": "slide"
    }
   },
   "source": [
    "# Reusability\n",
    "\n",
    "How can you improve the reusability? (besides copy&paste)\n",
    "\n",
    "* Generalization of **Process**\n",
    "    - $\\Rightarrow $ Separation of **Data** and **Process**\n",
    "\n",
    "What does this mean?\n",
    "\n"
   ]
  },
  {
   "cell_type": "code",
   "execution_count": null,
   "metadata": {
    "slideshow": {
     "slide_type": "notes"
    }
   },
   "outputs": [],
   "source": [
    "IPython.display.Audio(\"voice/reusability.mp3\")"
   ]
  },
  {
   "cell_type": "markdown",
   "metadata": {
    "slideshow": {
     "slide_type": "notes"
    }
   },
   "source": [
    "How can you improve the reusability?\n",
    "\n",
    "The key concept is the genelization.\n",
    "\n",
    "In order to generalize a process in computer programming, you need to clearly separate the data and process. \n",
    "\n",
    "What does this mean?\n",
    "\n",
    "Let's look at the example below.\n"
   ]
  },
  {
   "cell_type": "markdown",
   "metadata": {
    "slideshow": {
     "slide_type": "slide"
    }
   },
   "source": [
    "# Command line argument\n",
    "\n",
    "Warming up exercise\n",
    "\n",
    "    import sys\n",
    "    print(sys.argv)\n",
    "\n",
    "    # Result\n",
    "    # $ python day2_1_example1.py 123 abc\n",
    "    # ['day2_1_example1.py', '123', 'abc']\n",
    "\n"
   ]
  },
  {
   "cell_type": "markdown",
   "metadata": {
    "slideshow": {
     "slide_type": "subslide"
    }
   },
   "source": [
    "\n",
    "- *sys.argv* is a List object\n",
    "- An argument becomes a String object\n",
    "\n"
   ]
  },
  {
   "cell_type": "code",
   "execution_count": null,
   "metadata": {
    "slideshow": {
     "slide_type": "notes"
    }
   },
   "outputs": [],
   "source": [
    "IPython.display.Audio(\"voice/command_line_argument.mp3\")"
   ]
  },
  {
   "cell_type": "markdown",
   "metadata": {
    "slideshow": {
     "slide_type": "notes"
    }
   },
   "source": [
    "The first example shows the separation of command-line argument and script.\n",
    "\n",
    "It is difficult to show you an example in the Jupyter notebook, so just please try to execute the example in the terminal.\n",
    "\n",
    "When you execute a Python script, you can put additional input data to the Python script. It is called a command-line argument.\n",
    "\n",
    "The external data can be used in the Python script. \n",
    "\n",
    "The next example is another separation of data and process.\n"
   ]
  },
  {
   "cell_type": "markdown",
   "metadata": {
    "slideshow": {
     "slide_type": "slide"
    }
   },
   "source": [
    "# File Input\n",
    "\n",
    "    import sys\n",
    "    file = open(\"input.fa\")\n",
    "    for line in file:\n",
    "        print(line.rstrip())\n",
    "    file.close()\n"
   ]
  },
  {
   "cell_type": "markdown",
   "metadata": {
    "slideshow": {
     "slide_type": "subslide"
    }
   },
   "source": [
    "\n",
    "\n",
    "* *for* statement reads line by line assigning line data to the variable\n",
    "* *rstrip()* removes line break from the line\n",
    "* *open()* and *close()* are needed\n",
    "\n"
   ]
  },
  {
   "cell_type": "code",
   "execution_count": null,
   "metadata": {
    "slideshow": {
     "slide_type": "notes"
    }
   },
   "outputs": [],
   "source": [
    "IPython.display.Audio(\"voice/load_fasta.mp3\")"
   ]
  },
  {
   "cell_type": "markdown",
   "metadata": {
    "slideshow": {
     "slide_type": "notes"
    }
   },
   "source": [
    "This example shows the file loading. \n",
    "\n",
    "Loading a text file and just showing the file contents by *print()* function.\n",
    "\n",
    "This is also the separation of data and process. The python script is the process, and the fasta file is the input data.\n",
    "\n",
    "By separating data and process, you can use this Python code many times for other fasta files without changing the code.\n",
    "\n",
    "In other words, the reusability is improved by separating data and process.\n"
   ]
  },
  {
   "cell_type": "code",
   "execution_count": null,
   "metadata": {
    "slideshow": {
     "slide_type": "subslide"
    }
   },
   "outputs": [],
   "source": [
    "import sys\n",
    "file = open(\"input.fa\") # input.fa is expected to be uploaded in jupyterhub folder\n",
    "for line in file:\n",
    "    print(line.rstrip())\n",
    "file.close()"
   ]
  },
  {
   "cell_type": "code",
   "execution_count": null,
   "metadata": {
    "slideshow": {
     "slide_type": "subslide"
    }
   },
   "outputs": [],
   "source": [
    "# Another example\n",
    "import sys\n",
    "with open(\"input.fa\") as file: # input.fa is expected to be uploaded in jupyterhub folder\n",
    "    for line in file:\n",
    "        print(line.rstrip())"
   ]
  },
  {
   "cell_type": "markdown",
   "metadata": {
    "slideshow": {
     "slide_type": "slide"
    }
   },
   "source": [
    "# Mini-Summary\n",
    "\n",
    "Command line argument + File input\n",
    "\n",
    "* We can separate *Data* from *Process*\n",
    "  * **Data**: input file\n",
    "  * **Process**: script file\n",
    "\n",
    "$\\Rightarrow $ **Reusability up!!** You do not have to update the source code again.\n",
    "\n"
   ]
  },
  {
   "cell_type": "markdown",
   "metadata": {
    "slideshow": {
     "slide_type": "slide"
    }
   },
   "source": [
    "# Command line argument + File input\n",
    "\n",
    "    import sys\n",
    "    file = open(sys.argv[1])\n",
    "    for line in file:\n",
    "        print(line.rstrip())\n",
    "    file.close()\n",
    "\n",
    "    # command line\n",
    "    # $ python day2_1_example2.py input.fa\n"
   ]
  },
  {
   "cell_type": "code",
   "execution_count": null,
   "metadata": {
    "slideshow": {
     "slide_type": "subslide"
    }
   },
   "outputs": [],
   "source": [
    "import sys\n",
    "# Assuming that the script runs as follows:\n",
    "# $ python day2_1_example2.py input.fa\n",
    "sys.argv[1] = \"input.fa\" # This is needed only for jupyter notebook\n",
    "\n",
    "file = open(sys.argv[1])\n",
    "for line in file:\n",
    "    print(line.rstrip())\n",
    "file.close()"
   ]
  },
  {
   "cell_type": "markdown",
   "metadata": {
    "slideshow": {
     "slide_type": "subslide"
    }
   },
   "source": [
    "\n",
    "We used sequences coded in a Python script yesterday\n",
    "\n",
    "```\n",
    "seq1 = \"ATGC\"   # First sequence\n",
    "seq2 = \"ATAT\"   # Second sequence\n",
    "seq3 = \"ATGC\"   # Third sequence\n",
    "\n",
    "sequences = [seq1, seq2, seq3]\n",
    "```\n",
    "\n"
   ]
  },
  {
   "cell_type": "markdown",
   "metadata": {
    "slideshow": {
     "slide_type": "fragment"
    }
   },
   "source": [
    "*It is called hard-coding*\n"
   ]
  },
  {
   "cell_type": "markdown",
   "metadata": {
    "slideshow": {
     "slide_type": "slide"
    }
   },
   "source": [
    "# Day2 Part1 Exercise1\n",
    "\n",
    "Loading a fasta file and count the genome size of *Arabidopsis thaliana*\n",
    "```\n",
    "# command example\n",
    "$ python day2_1_exercise1.py athal_genome.fa\n",
    "genome size = 119667750 bp\n",
    "```\n",
    "* The script is reusable without any changes\n",
    "* bp: base pair, Kb, Mb, Gb\n",
    "* There is *athal_genome.fa* in data folder (compressed by gzip)\n"
   ]
  },
  {
   "cell_type": "code",
   "execution_count": null,
   "metadata": {
    "slideshow": {
     "slide_type": "notes"
    }
   },
   "outputs": [],
   "source": [
    "IPython.display.Audio(\"voice/day2_part1_exercise.mp3\")"
   ]
  },
  {
   "cell_type": "markdown",
   "metadata": {
    "slideshow": {
     "slide_type": "notes"
    }
   },
   "source": [
    "The first exercise today is just loading a FASTA file. \n",
    "\n",
    "The FASTA file contains a lot of nucleotide sequences, actually more than two.\n",
    "\n",
    "If you do not know what the FASTA file is. Please look at the explanation below."
   ]
  },
  {
   "cell_type": "markdown",
   "metadata": {
    "slideshow": {
     "slide_type": "slide"
    }
   },
   "source": [
    "# FASTA format\n",
    "\n",
    "Nucleotides (*Arabidopsis thaliana*)\n",
    "\n",
    "\t>AT1G51370.2 | F-box/RNI-like/FBD-like domains-containing protein\n",
    "\tATGGTGGGTGGCAAGAAGAAAACCAAGATATGTGACAAAGTGTCACATGAGGAAGATAGGATAAGCCAGTTTTTGATATCTGAAATACTTTTTCATCTTTCTACCAAGGACTCTGTCAGAACAAGCGCTTTGTCTACCAAATTTTGGCAATCGGTTCCTGGATTGGACTTAGACCCCTACGCATCCTCAAATACCAATACAATTGTGAGTTTT\n",
    "\n",
    "\n"
   ]
  },
  {
   "cell_type": "markdown",
   "metadata": {
    "slideshow": {
     "slide_type": "subslide"
    }
   },
   "source": [
    "\n",
    "\n",
    "1. **>** Annotation information \n",
    "2. Sequence\n",
    "\n"
   ]
  },
  {
   "cell_type": "markdown",
   "metadata": {
    "slideshow": {
     "slide_type": "slide"
    }
   },
   "source": [
    "# FASTQ Format\n",
    "\n",
    "    @SEQ_ID\n",
    "    GATTTGGGGTTCAAAGCAGTATCGATCAAATAGTAAATCCATTTGTTCAACTCACAGTTT\n",
    "    +\n",
    "    !''*((((***+))%%%++)(%%%%).1***-+*''))**55CCF>>>>>>CCCCCCC65\n",
    "\n",
    "\n"
   ]
  },
  {
   "cell_type": "markdown",
   "metadata": {
    "slideshow": {
     "slide_type": "subslide"
    }
   },
   "source": [
    "\n",
    "\n",
    "1. ID\n",
    "2. Sequence\n",
    "3. Nothing\n",
    "4. Quatliy (ASCII code')\n",
    "\n"
   ]
  }
 ],
 "metadata": {
  "celltoolbar": "Slideshow",
  "kernelspec": {
   "display_name": "Python 3 (ipykernel)",
   "language": "python",
   "name": "python3"
  },
  "language_info": {
   "codemirror_mode": {
    "name": "ipython",
    "version": 3
   },
   "file_extension": ".py",
   "mimetype": "text/x-python",
   "name": "python",
   "nbconvert_exporter": "python",
   "pygments_lexer": "ipython3",
   "version": "3.10.10"
  }
 },
 "nbformat": 4,
 "nbformat_minor": 1
}
