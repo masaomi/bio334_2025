{
 "cells": [
  {
   "cell_type": "markdown",
   "metadata": {
    "slideshow": {
     "slide_type": "slide"
    }
   },
   "source": [
    "# Bio334 Practical Bioinformatics\n",
    "\n",
    "The 2nd module, 14-16, May, 2025\n",
    "\n",
    "## Masaomi Hatakeyama\n",
    "- GitHab https://github.com/masaomi/bio334_2025\n",
    "- TAs: Narjes Yousefi,  Kenji Yip Tong"
   ]
  },
  {
   "cell_type": "markdown",
   "metadata": {
    "slideshow": {
     "slide_type": "slide"
    }
   },
   "source": [
    "# Day2 Part3\n",
    "\n",
    "Count the number of segregating site\n"
   ]
  },
  {
   "cell_type": "code",
   "execution_count": null,
   "metadata": {
    "slideshow": {
     "slide_type": "notes"
    }
   },
   "outputs": [],
   "source": [
    "import IPython.display\n",
    "IPython.display.Audio(\"voice/day2_part3.mp3\")"
   ]
  },
  {
   "cell_type": "markdown",
   "metadata": {
    "slideshow": {
     "slide_type": "notes"
    }
   },
   "source": [
    "In this part, we will focus on the counting of the segregating sites, the SNP sites. \n",
    "\n",
    "As you can see the definition of Tajima's D formula below, we need to count the number of SNP sites."
   ]
  },
  {
   "cell_type": "markdown",
   "metadata": {
    "slideshow": {
     "slide_type": "slide"
    }
   },
   "source": [
    "# Tajima's D\n",
    "\n",
    "One of summary statistics \n",
    "\n",
    "  $Tajima's D = \\frac{d}{\\sqrt{V(d)}}, d = \\pi - s/\\sum_{i=1}^{n-1}{\\frac{1}{i}}$\n",
    "\n",
    "* $\\pi$: nucleotide diversity\n",
    "* $s$: rate of segregating site = (number of segregating sites) / (length of sequence)\n",
    "* $n$: number of sequences\n",
    "\n",
    "- Reference: Tajima, F. Genetics 123, 585–95, 1989\n",
    "- http://en.wikipedia.org/wiki/Tajima's_D\n",
    "- What is segregating site?\n",
    "\n"
   ]
  },
  {
   "cell_type": "markdown",
   "metadata": {
    "slideshow": {
     "slide_type": "slide"
    }
   },
   "source": [
    "# Algorithm Design\n",
    "\n",
    "Tajima's D\n",
    "\n",
    "1. load sequences (already done)\n",
    "2. calc nucleotide diversity (already done)\n",
    "3. count the number of segregating sites\n",
    "4. calc rate of the segregating sites\n",
    "\n"
   ]
  },
  {
   "cell_type": "code",
   "execution_count": null,
   "metadata": {
    "slideshow": {
     "slide_type": "notes"
    }
   },
   "outputs": [],
   "source": [
    "IPython.display.Audio(\"voice/tajimasd_calculation_step1.mp3\")"
   ]
  },
  {
   "cell_type": "markdown",
   "metadata": {
    "slideshow": {
     "slide_type": "notes"
    }
   },
   "source": [
    "Let's think about the process of calculating Tajima's D.\n",
    "\n",
    "You have already implemented the nucleotide diversity, pi.\n",
    "\n",
    "The remaining thing is the calculation of the number of segregating sites.\n",
    "\n",
    "The segregating site means a different nucleotide site of some individuals from the others in the population.\n",
    "\n",
    "How can we detect it?"
   ]
  },
  {
   "cell_type": "markdown",
   "metadata": {
    "slideshow": {
     "slide_type": "slide"
    }
   },
   "source": [
    "# Count segregating sites\n",
    "\n",
    "What is the segregating site?\n",
    "\n",
    "Break it into 2 parts\n",
    "1. detecting alleles in each site\n",
    "2. if the number of alleles >= 2, then it is counted as a segregating site\n",
    "\n"
   ]
  },
  {
   "cell_type": "code",
   "execution_count": null,
   "metadata": {
    "slideshow": {
     "slide_type": "notes"
    }
   },
   "outputs": [],
   "source": [
    "IPython.display.Audio(\"voice/tajimasd_calculation_step2.mp3\")"
   ]
  },
  {
   "cell_type": "markdown",
   "metadata": {
    "slideshow": {
     "slide_type": "notes"
    }
   },
   "source": [
    "Let's think about how to count the number of the segregating sites.\n",
    "\n",
    "How about the following idea?\n",
    "\n",
    "1. detecting alleles in each site\n",
    "2. if there are the number of alleles, in other words, if you find more than two different nucleotides, then the position is counted as a segregating site.\n",
    "\n",
    "In the example below, it uses *set* conversion from a list object.\n",
    "\n",
    "However, this is just one solution. You might be able to find another solution.\n",
    "\n"
   ]
  },
  {
   "cell_type": "markdown",
   "metadata": {
    "slideshow": {
     "slide_type": "subslide"
    }
   },
   "source": [
    "# Example1 (remember Set)\n",
    "\n",
    "    lst = [1, 2, 3, 2, 3, 4, 5, 1, 5]\n",
    "\n",
    "    print(\"list =\", lst)            \n",
    "    print(\"set =\", set(lst)) #=> ??      \n",
    "    print(len(set(lst)))     #=> ?? \n",
    "\n",
    "* Set is useful to discard duplicated elements\n",
    "\n",
    "Q: How can we use it for Tajima'sD ?\n",
    "\n"
   ]
  },
  {
   "cell_type": "code",
   "execution_count": null,
   "metadata": {
    "slideshow": {
     "slide_type": "subslide"
    }
   },
   "outputs": [],
   "source": [
    "lst = [1, 2, 3, 2, 3, 4, 5, 1, 5]\n",
    "\n",
    "print(\"list =\", lst)            \n",
    "print(\"set =\", set(lst))\n",
    "print(len(set(lst)))\n"
   ]
  },
  {
   "cell_type": "code",
   "execution_count": null,
   "metadata": {
    "slideshow": {
     "slide_type": "subslide"
    }
   },
   "outputs": [],
   "source": [
    "# Example2\n",
    "\n",
    "seq1 = \"ATGC\"\n",
    "seq2 = \"ATAT\"\n",
    "sequences = [seq1, seq2]\n",
    "for i in range(0, len(seq1)):\n",
    "    alleles = []            \n",
    "    for seq in sequences:  \n",
    "        alleles.append(seq[i])\n",
    "    if len(set(alleles)) > 1:\n",
    "        print(\"segregating\") \n",
    "    else:\n",
    "        print(\"not segregating\") \n",
    "    print(alleles)"
   ]
  },
  {
   "cell_type": "markdown",
   "metadata": {
    "slideshow": {
     "slide_type": "slide"
    }
   },
   "source": [
    "# Idea (Inspiration, *abduction*)\n",
    "\n",
    "**Point**\n",
    "\n",
    "* **Set** object is used for detecting segregating site\n",
    "\n",
    " - *probably, the two things (1) set has uniq elements, (2) need to detect different types of allele, hit my head, and Ahal! came*\n",
    "\n"
   ]
  },
  {
   "cell_type": "markdown",
   "metadata": {
    "slideshow": {
     "slide_type": "subslide"
    }
   },
   "source": [
    "# Idea \n",
    "\n",
    "Logical thinking, *deduction*\n",
    "\n",
    "1. Keep all nucleotides at same position in a List object\n",
    "2. Convert it into a Set object\n",
    "3. Count the number of Set elements\n",
    "4. A segregating site must have more than two elements of the Set\n",
    "\n",
    "\n"
   ]
  },
  {
   "cell_type": "code",
   "execution_count": null,
   "metadata": {
    "slideshow": {
     "slide_type": "notes"
    }
   },
   "outputs": [],
   "source": [
    "IPython.display.Audio(\"voice/tajimasd_calculation_step3.mp3\")"
   ]
  },
  {
   "cell_type": "markdown",
   "metadata": {
    "slideshow": {
     "slide_type": "notes"
    }
   },
   "source": [
    "Let me just explain the algorithm that I constructed here in natural language.\n",
    "\n",
    "1. keep all the nucleotides at the same position in a *List* object\n",
    "2. convert the *List* object into a *Set* object.\n",
    "3. count the number of the *Set* elements.\n",
    "4. if the number of the *Set* elements is more than two, it is counted as a segregating site.\n",
    "\n",
    "Do you think it makes sense?\n",
    "\n",
    "Now you are ready to calculate the numerator of the fraction in Tajima's D formula.\n",
    "\n",
    "Let's do the exercise, loading the FASTA file and calculating the number of segregating sites.\n"
   ]
  },
  {
   "cell_type": "markdown",
   "metadata": {
    "slideshow": {
     "slide_type": "slide"
    }
   },
   "source": [
    "# Tajima's D\n",
    "\n",
    "One of summary statistics\n",
    "\n",
    "  $Tajima's D = \\frac{d}{\\sqrt{V(d)}}, d = \\pi - s/\\sum_{i=1}^{n-1}{\\frac{1}{i}}$\n",
    "\n",
    "* $\\pi$: nucleotide diversity\n",
    "* $s$: rate of segregating site = (number of segregating sites) / (length of sequence)\n",
    "* $n$: number of sequences\n",
    "\n",
    "- Reference: Tajima, F. Genetics 123, 585–95, 1989\n",
    "- http://en.wikipedia.org/wiki/Tajima's_D\n",
    "\n"
   ]
  }
 ],
 "metadata": {
  "celltoolbar": "Slideshow",
  "kernelspec": {
   "display_name": "Python 3 (ipykernel)",
   "language": "python",
   "name": "python3"
  },
  "language_info": {
   "codemirror_mode": {
    "name": "ipython",
    "version": 3
   },
   "file_extension": ".py",
   "mimetype": "text/x-python",
   "name": "python",
   "nbconvert_exporter": "python",
   "pygments_lexer": "ipython3",
   "version": "3.10.10"
  }
 },
 "nbformat": 4,
 "nbformat_minor": 1
}
