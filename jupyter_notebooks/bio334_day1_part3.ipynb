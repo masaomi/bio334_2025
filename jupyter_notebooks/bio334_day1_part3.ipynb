{
 "cells": [
  {
   "cell_type": "markdown",
   "metadata": {
    "slideshow": {
     "slide_type": "slide"
    }
   },
   "source": [
    "# Bio334 Practical Bioinformatics\n",
    "\n",
    "The 2nd module, 14-16, May, 2025\n",
    "\n",
    "## Masaomi Hatakeyama\n",
    "- GitHab https://github/masaomi/bio334_2025\n",
    "- TAs: Narjes Yousefi,  Kenji Yip Tong"
   ]
  },
  {
   "cell_type": "markdown",
   "metadata": {
    "slideshow": {
     "slide_type": "slide"
    }
   },
   "source": [
    "# Day1 Part3\n",
    "\n",
    "Compare more than two Lists\n"
   ]
  },
  {
   "cell_type": "code",
   "execution_count": null,
   "metadata": {
    "slideshow": {
     "slide_type": "notes"
    }
   },
   "outputs": [],
   "source": [
    "import IPython.display\n",
    "IPython.display.Audio(\"voice/day1_part3.mp3\")"
   ]
  },
  {
   "cell_type": "markdown",
   "metadata": {
    "slideshow": {
     "slide_type": "notes"
    }
   },
   "source": [
    "In the previous part, you compared two lists, and you compared two nucleotide sequences in the exercise.\n",
    "\n",
    "In this part, you will compare more than two nucleotide sequences. \n",
    "\n",
    "In order to compare more than two sequences, I will introduce double for-loop and how to access the two-dimensional data structure, in other words, how to access the elements of a list of lists. \n",
    "\n",
    "If you feel complicated, please stop by, break it down, and rewrite the actual process without a for-loop statement, which is the specialization thinking process opposite to the generalization.\n",
    "\n",
    "Let's see the first example of a list of lists below.\n"
   ]
  },
  {
   "cell_type": "code",
   "execution_count": null,
   "metadata": {
    "slideshow": {
     "slide_type": "subslide"
    }
   },
   "outputs": [],
   "source": [
    "# List of Lists\n",
    "\n",
    "lst1 = [0, 1]\n",
    "lst2 = [2, 3]\n",
    "\n",
    "lst = [lst1, lst2]\n",
    "print(lst[0][0]) # => ??\n",
    "print(lst[0][1]) # => ??\n",
    "print(lst[1][0]) # => ??\n",
    "print(lst[1][1]) # => ??\n",
    "     \n",
    "# a kind of table, two dimensional list"
   ]
  },
  {
   "cell_type": "code",
   "execution_count": null,
   "metadata": {
    "slideshow": {
     "slide_type": "subslide"
    }
   },
   "outputs": [],
   "source": [
    "# List of Strings\n",
    "\n",
    "str1 = \"AT\"\n",
    "str2 = \"GC\"\n",
    "\n",
    "lst = [str1, str2]\n",
    "print(lst[0][0]) # => ??\n",
    "print(lst[0][1]) # => ??\n",
    "print(lst[1][0]) # => ??\n",
    "print(lst[1][1]) # => ??\n",
    "     \n",
    "# a kind of table, two dimensional list"
   ]
  },
  {
   "cell_type": "code",
   "execution_count": null,
   "metadata": {
    "slideshow": {
     "slide_type": "subslide"
    }
   },
   "outputs": [],
   "source": [
    "# List of Strings\n",
    "\n",
    "str1 = \"AT\"\n",
    "str2 = \"GC\"\n",
    "\n",
    "lst = [str1, str2]\n",
    "for i in range(0, 2):     # select string\n",
    "    for j in range(0, 2): # select position\n",
    "        print(lst[i][j])\n",
    "\n",
    "# \"Double loop\" is useful to access two dimensional data structure"
   ]
  },
  {
   "cell_type": "code",
   "execution_count": null,
   "metadata": {
    "slideshow": {
     "slide_type": "notes"
    }
   },
   "outputs": [],
   "source": [
    "IPython.display.Audio(\"voice/day1_part3_example.mp3\")"
   ]
  },
  {
   "cell_type": "markdown",
   "metadata": {
    "slideshow": {
     "slide_type": "notes"
    }
   },
   "source": [
    "The list of lists is a sort of two-dimensional data structure like an Excel table. \n",
    "\n",
    "The first index corresponds to the index of the list, the second index corresponds to the position of each element of the list.\n",
    "\n",
    "In this sort of two-dimensional data structure, you can use a double for-loop to access each element. \n",
    "\n",
    "Please be careful to look at two indexes,  *i* and *j*. *i* is the first index and *j* is the second index of the list of the lists.\n",
    "\n",
    "The next example is the permutation. It uses the same double loop but it uses only one single list.\n"
   ]
  },
  {
   "cell_type": "markdown",
   "metadata": {
    "slideshow": {
     "slide_type": "slide"
    }
   },
   "source": [
    "# Permutation\n",
    "\n",
    "    lst = [\"a\", \"b\", \"c\", \"d\", \"e\"]  \n",
    "    for i in range(0, len(lst)):       \n",
    "        for j in range(0, len(lst)):  \n",
    "            if not lst[i] == lst[j] \n",
    "                print(lst[i], lst[j]) \n",
    "\n",
    "* How many times is *print()* repeated?\n",
    "\n"
   ]
  },
  {
   "cell_type": "code",
   "execution_count": null,
   "metadata": {
    "slideshow": {
     "slide_type": "subslide"
    }
   },
   "outputs": [],
   "source": [
    "# Permutation\n",
    "\n",
    "lst = [\"a\", \"b\", \"c\", \"d\", \"e\"]  \n",
    "    \n",
    "print(\"permutations\")\n",
    "for i in range(0, len(lst)):       \n",
    "    for j in range(0, len(lst)):  \n",
    "        if not lst[i] == lst[j]: \n",
    "            print(lst[i], lst[j]) "
   ]
  },
  {
   "cell_type": "markdown",
   "metadata": {
    "slideshow": {
     "slide_type": "slide"
    }
   },
   "source": [
    "# Permutation\n",
    "\n",
    "    lst = [\"a\", \"b\", \"c\", \"d\", \"e\"]  \n",
    "    for i in range(0, len(lst)):       \n",
    "        # process1\n",
    "\n",
    "* How many times is *process1* repeated?\n",
    "\n"
   ]
  },
  {
   "cell_type": "markdown",
   "metadata": {
    "slideshow": {
     "slide_type": "subslide"
    }
   },
   "source": [
    "# Permutation\n",
    "\n",
    "    lst = [\"a\", \"b\", \"c\", \"d\", \"e\"]  \n",
    "    for i in range(0, len(lst)):       \n",
    "        # process1\n",
    "        for j in range(0, len(lst)):  \n",
    "            # process2\n",
    "\n",
    "* How many times is *process2* repeated?\n",
    "\n"
   ]
  },
  {
   "cell_type": "markdown",
   "metadata": {
    "slideshow": {
     "slide_type": "subslide"
    }
   },
   "source": [
    "# Permutation\n",
    "\n",
    "    for i in range(0, len(lst)):       \n",
    "        # process1\n",
    "        for j in range(0, len(lst)):  \n",
    "            # process2\n",
    "            if not lst[i] == lst[j] \n",
    "                # process3\n",
    "\n",
    "* How many times is *process3* repeated?\n",
    "\n"
   ]
  },
  {
   "cell_type": "markdown",
   "metadata": {
    "slideshow": {
     "slide_type": "slide"
    }
   },
   "source": [
    "# Combination\n",
    "```\n",
    "lst = [\"a\", \"b\", \"c\", \"d\", \"e\"]  \n",
    " for i in range(0, len(lst)):    # 5 times  \n",
    "  for j in range(i+1, len(lst)): # 5-(i+1) times\n",
    "   print(lst[i], lst[j]) \n",
    "```\n",
    "- Q: How many times is *print()* repeated?\n",
    "\n"
   ]
  },
  {
   "cell_type": "code",
   "execution_count": null,
   "metadata": {
    "slideshow": {
     "slide_type": "notes"
    }
   },
   "outputs": [],
   "source": [
    "IPython.display.Audio(\"voice/day1_part3_combination.mp3\")"
   ]
  },
  {
   "cell_type": "markdown",
   "metadata": {
    "slideshow": {
     "slide_type": "notes"
    }
   },
   "source": [
    "In the permutation, the order of elements is considered. \n",
    "\n",
    "For example (a,b) and (b,a) are different elements in the permutation. \n",
    "\n",
    "On the other hand, in the combination, the order is not considered. (a,b) and (b,a) is the same element. \n",
    "\n",
    "In order to calculate the nucleotide diversity, we need the pairwise combination of sequences. \n",
    "\n",
    "So, regardless of the number of sequences, we can use the for-double loop to make a pairwise combination of the sequences, and I remind you back that we can use *for* and *if* structure, in order to compare the elements of two lists. \n",
    "\n",
    "This is the hint to the final exercise today.\n"
   ]
  },
  {
   "cell_type": "markdown",
   "metadata": {
    "slideshow": {
     "slide_type": "slide"
    }
   },
   "source": [
    "# Mini-Summary1\n",
    "Generalization\n",
    "* In order to process two dimensional data, use double loop **for**\n",
    "\n",
    "\n",
    "        #List of list\n",
    "        for <varriable> in range(0, len(<list>)):\n",
    "            for <varriable> in range(0, len(<list>)):\n",
    "              # process for each element\n",
    "\n"
   ]
  },
  {
   "cell_type": "markdown",
   "metadata": {
    "slideshow": {
     "slide_type": "slide"
    }
   },
   "source": [
    "# Mini-Summary2\n",
    "Generalization\n",
    "* In order to process the combination of a list, use double loop **for**\n",
    "```\n",
    "#Combination of a list\n",
    "for i in range(0, len(<list>)):\n",
    "   for j in range(i+1, len(<list>)):\n",
    "    # process of each combination\n",
    "```\n",
    "* Be careful of the second loop index, begin with **i+1**.\n",
    "\n"
   ]
  },
  {
   "cell_type": "code",
   "execution_count": null,
   "metadata": {
    "slideshow": {
     "slide_type": "notes"
    }
   },
   "outputs": [],
   "source": [
    "IPython.display.Audio(\"voice/summary_day1_part3.mp3\")"
   ]
  },
  {
   "cell_type": "markdown",
   "metadata": {
    "slideshow": {
     "slide_type": "notes"
    }
   },
   "source": [
    "Now you have a chance to generalize your knowledge.\n",
    "\n",
    "If you want to have a pairwise combination of some lists, you can use the double loop by for-statement with being careful about the second index.\n",
    "\n",
    "If you understand this technique, you can finally implement the nucleotide diversity.\n",
    "\n",
    "Please make sure the definition of the nucleotide diversity again. And let's go on to the exercise.\n"
   ]
  },
  {
   "cell_type": "markdown",
   "metadata": {
    "slideshow": {
     "slide_type": "slide"
    }
   },
   "source": [
    "# Day1 Part3\n",
    "\n",
    "Nucleotide Diversity\n",
    "\n",
    "<img src=\"https://raw.githubusercontent.com/masaomi/bio334_2025/main/jupyter_notebooks/png/pi.png\" width=50%>\n",
    "\n",
    "- *d*: number of nucleotide differences (pair-wise)\n",
    "- *n*: number of sequences\n",
    "- *l*: length of sequence\n",
    "\n",
    "\n",
    "Q: How do you design the code?\n",
    "\n"
   ]
  }
 ],
 "metadata": {
  "celltoolbar": "Slideshow",
  "kernelspec": {
   "display_name": "Python 3 (ipykernel)",
   "language": "python",
   "name": "python3"
  },
  "language_info": {
   "codemirror_mode": {
    "name": "ipython",
    "version": 3
   },
   "file_extension": ".py",
   "mimetype": "text/x-python",
   "name": "python",
   "nbconvert_exporter": "python",
   "pygments_lexer": "ipython3",
   "version": "3.10.10"
  }
 },
 "nbformat": 4,
 "nbformat_minor": 1
}
