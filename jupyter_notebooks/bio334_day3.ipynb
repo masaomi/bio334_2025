{
 "cells": [
  {
   "cell_type": "markdown",
   "metadata": {
    "slideshow": {
     "slide_type": "slide"
    }
   },
   "source": [
    "# Bio334 Practical Bioinformatics\n",
    "\n",
    "The 2nd module, 14-16, May, 2025\n",
    "\n",
    "## Masaomi Hatakeyama\n",
    "- GitHab https://github.com/masaomi/bio334_2025\n",
    "- TAs: Narjes Yousefi,  Kenji Yip Tong"
   ]
  },
  {
   "cell_type": "markdown",
   "metadata": {
    "slideshow": {
     "slide_type": "slide"
    }
   },
   "source": [
    "# Day3 Final\n",
    "\n",
    "VCF file, Dictionary, and nucleotide diversity and Tajima's D\n",
    "\n"
   ]
  },
  {
   "cell_type": "code",
   "execution_count": null,
   "metadata": {
    "slideshow": {
     "slide_type": "notes"
    }
   },
   "outputs": [],
   "source": [
    "import IPython.display\n",
    "IPython.display.Audio(\"voice/day3_final.mp3\")"
   ]
  },
  {
   "cell_type": "markdown",
   "metadata": {
    "slideshow": {
     "slide_type": "notes"
    }
   },
   "source": [
    "Today, the final session in this module, I will give you a more advanced exercise, but if you have not finished the exercise of calculating Tajima's D yet, please continue it.\n",
    "\n",
    "If everything is all clear until yesterday, then please go on the final exercise today.\n"
   ]
  },
  {
   "cell_type": "markdown",
   "metadata": {
    "slideshow": {
     "slide_type": "slide"
    }
   },
   "source": [
    "# Advanced exercise1\n",
    "\n",
    "Calculate nucleotide diversity of *A. thaliana genomes* http://www.1001genomes.org\n",
    "\n",
    "<center>\n",
    "    <img src=\"https://raw.githubusercontent.com/masaomi/bio334_2025/main/jupyter_notebooks/png/geomap.png\" width=40%>\n",
    "</center>\n",
    "\n",
    "Use only chromosome1 of MPICWang2013 accessions\n",
    "\n"
   ]
  },
  {
   "cell_type": "code",
   "execution_count": null,
   "metadata": {
    "slideshow": {
     "slide_type": "notes"
    }
   },
   "outputs": [],
   "source": [
    "IPython.display.Audio(\"voice/day3_exercise.mp3\")"
   ]
  },
  {
   "cell_type": "markdown",
   "metadata": {
    "slideshow": {
     "slide_type": "notes"
    }
   },
   "source": [
    "This is also real data that has been already published. It is the 1001 genome project on Arabidopsis thaliana. \n",
    "\n",
    "You can get a lot of SNP data trom the 1001 project site. The SNP data are uploaded as follows.\n"
   ]
  },
  {
   "cell_type": "markdown",
   "metadata": {
    "slideshow": {
     "slide_type": "subslide"
    }
   },
   "source": [
    "# SNP file format\n",
    "\n",
    "      #samp chr     pos ref sub qual \n",
    "      108   Chr1    83  T   C   40\n",
    "      108   Chr1    92  A   C   40\n",
    "      108   Chr1    262 C   G   40\n",
    "\n",
    "* The length of Chr1: 30,427,671 [bp]\n",
    "\n"
   ]
  },
  {
   "cell_type": "code",
   "execution_count": null,
   "metadata": {
    "slideshow": {
     "slide_type": "notes"
    }
   },
   "outputs": [],
   "source": [
    "IPython.display.Audio(\"voice/vcf_format.mp3\")"
   ]
  },
  {
   "cell_type": "markdown",
   "metadata": {
    "slideshow": {
     "slide_type": "notes"
    }
   },
   "source": [
    "As for the SNP data, as a defacto standard, we use VCF file format, VCF: Variant Calling Format. \n",
    "\n",
    "It is a tab-separated value format. Each column is separated by tab space.\n",
    "\n",
    "The first line shows the column header.\n",
    "\n",
    "The first column is the sample name or accession ID, the second column is the chromosome number, the third column is the nucleotide position in the chromosome, the fourth column is the reference nucleotide, and the fifth column is the alternative nucleotide in that accession.\n",
    "\n",
    "So, this is not the FASTA format that we used until yesterday. \n",
    "\n",
    "It contains only the SNP information, in other words, position information and alternative nucleotide information, in the VCF file.\n",
    "\n",
    "The basic idea is the same as before, but the implementation should change to adjust to the file format. \n",
    "\n",
    "Namely, you have to change, how to count the segregating sites, how to compare each accession, how to count the pairwise snip based on this file format. \n",
    "\n",
    "It is the final goal of this module to think about the algorithm by yourself. You should have all pieces of the code, and you understand the nucleotide diversity and Tajima's D and how to calculate it mathematically. The problem in programming should be how to construct the algorithm by assembling the knowledge.\n"
   ]
  },
  {
   "cell_type": "markdown",
   "metadata": {
    "slideshow": {
     "slide_type": "slide"
    }
   },
   "source": [
    "# Dictionary\n",
    "\n",
    "* Similar to List\n",
    "* Curly brackets for the entire set of elements\n",
    "* Square brackets for each elements\n",
    "* Index does not have to be sequential integer"
   ]
  },
  {
   "cell_type": "code",
   "execution_count": null,
   "metadata": {
    "slideshow": {
     "slide_type": "notes"
    }
   },
   "outputs": [],
   "source": [
    "IPython.display.Audio(\"voice/dictionary.mp3\")"
   ]
  },
  {
   "cell_type": "markdown",
   "metadata": {
    "slideshow": {
     "slide_type": "notes"
    }
   },
   "source": [
    "There are several solutions, but I just give you one hint. \n",
    "\n",
    "If you use *Dictionary* data structure, it could rather simply deal with the VCF file data. \n",
    "\n",
    "The *Dictionary* is similar to *List* object.\n",
    "\n",
    "The *List* has an index and value, but the *Dictionary* has **key** and **value**. \n",
    "\n",
    "The key can be not only an *Integer* but a *String* or any object. \n",
    "\n",
    "Please look at the example below.\n"
   ]
  },
  {
   "cell_type": "code",
   "execution_count": null,
   "metadata": {
    "slideshow": {
     "slide_type": "subslide"
    }
   },
   "outputs": [],
   "source": [
    "# Dictionary\n",
    "# Example\n",
    "\n",
    "dic = {}\n",
    "dic[1] = \"aaa\"\n",
    "dic[\"a\"] = 111\n",
    "print(dic) # => {1: 'aaa', 'a': 111}\n",
    "print(dic.keys()) # => [1, 'a']\n",
    "print(dic.values()) # => ['aaa', 111]\n",
    "print(dic.items()) # => [(1, 'aaa'), ('a', 111)]"
   ]
  },
  {
   "cell_type": "code",
   "execution_count": null,
   "metadata": {
    "slideshow": {
     "slide_type": "subslide"
    }
   },
   "outputs": [],
   "source": [
    "# day3_example1.py\n",
    "\n",
    "import glob\n",
    "\n",
    "samples = []\n",
    "for file_name in glob.glob(\"*.vcf\"):\n",
    "    f = open(file_name)\n",
    "    print(file_name)\n",
    "    snps = {}\n",
    "    for line in f:\n",
    "        print(line, end=\"\")\n",
    "        pos = line.split()[2]\n",
    "        nuc = line.split()[4]\n",
    "        snps[pos] = nuc\n",
    "    f.close()\n",
    "    samples.append(snps)\n",
    "    print()\n",
    "\n",
    "print(\"samples=\", samples)"
   ]
  },
  {
   "cell_type": "markdown",
   "metadata": {
    "slideshow": {
     "slide_type": "slide"
    }
   },
   "source": [
    "Position | sample1 | sample2 | sample3 | SNP?\n",
    "---------|---------|---------|---------|--------\n",
    "   1     |    A    |    A    |    A    | No\n",
    "   2     |    N    |    N    |    N    | No?\n",
    "   3     |    G    |    N    |    G    | Yes?\n",
    "   4     |    C    |    T    |    T    | Yes"
   ]
  },
  {
   "cell_type": "code",
   "execution_count": null,
   "metadata": {
    "slideshow": {
     "slide_type": "notes"
    }
   },
   "outputs": [],
   "source": [
    "IPython.display.Audio(\"voice/snp_detection_by_dictionary.mp3\")"
   ]
  },
  {
   "cell_type": "markdown",
   "metadata": {
    "slideshow": {
     "slide_type": "notes"
    }
   },
   "source": [
    "Now you can use the *Dictionary* data structure to detect a SNP from a VCF file.\n",
    "\n",
    "Let's look at the example above. Assuming that this is a part of the same chromosome. There is position information in the first column, and three sample information. \n",
    "\n",
    "Look at the first and second positions. These are not SNPs, because sample1, sample2, and sample3 have the same nucleotide information. \n",
    "\n",
    "N means uncertain nucleotide due to some sequencing error, low quality, or something like that.\n",
    "\n",
    "The third and fourth positions are SNP sites, because one of them is different from the others.\n",
    "\n",
    "How do you implement this SNP detection in Python?\n",
    "\n",
    "Actually, there are several ways to check whether it is SNP or not. \n",
    "\n",
    "I give you one hit, and the *Set* operation may help you below.\n"
   ]
  },
  {
   "cell_type": "markdown",
   "metadata": {
    "slideshow": {
     "slide_type": "slide"
    }
   },
   "source": [
    "# Set operation\n",
    "\n",
    "\n",
    "<center>\n",
    "    <img src=\"https://raw.githubusercontent.com/masaomi/bio334_2025/main/jupyter_notebooks/png/set_operation.png\" width=40%>\n",
    "</center>\n"
   ]
  },
  {
   "cell_type": "code",
   "execution_count": null,
   "metadata": {
    "slideshow": {
     "slide_type": "notes"
    }
   },
   "outputs": [],
   "source": [
    "IPython.display.Audio(\"voice/snp_detection_by_set.mp3\")"
   ]
  },
  {
   "cell_type": "markdown",
   "metadata": {
    "slideshow": {
     "slide_type": "notes"
    }
   },
   "source": [
    "*Set* is another data structure. \n",
    "\n",
    "It is also similar to *List* object, but two important things. \n",
    "\n",
    "It does not have an index, and it does not allow the same elements in it. Please look at the example below.\n",
    "\n",
    "*List* can be converted into a *set* object by *set()* function. \n",
    "\n",
    "And then the duplicated elements become only one in the *Set* object. \n",
    "\n",
    "I just give you another hint, a little bit more realistic example in the next cell, but I stop the explanation. Please look at the code and think about what it does.\n"
   ]
  },
  {
   "cell_type": "code",
   "execution_count": null,
   "metadata": {
    "slideshow": {
     "slide_type": "subslide"
    }
   },
   "outputs": [],
   "source": [
    "list1 = [1,1,2,3,3,4]\n",
    "set1 = set(list1)\n",
    "print(set1)"
   ]
  },
  {
   "cell_type": "code",
   "execution_count": null,
   "metadata": {
    "slideshow": {
     "slide_type": "subslide"
    }
   },
   "outputs": [],
   "source": [
    "# day3_example2.py\n",
    "\n",
    "snps1 = {1: 'A', 3: 'G', 4: 'C'}\n",
    "snps2 = {1: 'A', 4: 'T'}\n",
    "\n",
    "print(\"Sample1: \", snps1)\n",
    "print(\"Sample2: \", snps2)\n",
    "pos1 = set(snps1.keys())\n",
    "pos2 = set(snps2.keys())\n",
    "common_pos = pos1 & pos2\n",
    "exclor_pos = pos1 ^ pos2\n",
    "\n",
    "diff = len(exclor_pos)\n",
    "for pos in common_pos:\n",
    "    if not snps1[pos] == snps2[pos]:\n",
    "        diff += 1\n",
    "\n",
    "print(\"The number of segregating sites = \", diff)"
   ]
  },
  {
   "cell_type": "markdown",
   "metadata": {
    "slideshow": {
     "slide_type": "slide"
    }
   },
   "source": [
    "# Final exercise\n",
    "\n",
    "Nucleotide diversity & Tajima's D from VCF file\n",
    "\n",
    "- https://gist.github.com/masaomi/1397a32c4b870f7ab7e92f479770788d\n"
   ]
  },
  {
   "cell_type": "markdown",
   "metadata": {
    "slideshow": {
     "slide_type": "slide"
    }
   },
   "source": [
    "# Optional exercise1\n",
    "\n",
    "* If you completely understand everything, let's generate the final exam problem using an LLM tool in markdown format.\n",
    "    - Please send me the link to your GitHub repository.\n",
    "    - If it's a good problem, I might use it."
   ]
  },
  {
   "cell_type": "markdown",
   "metadata": {
    "slideshow": {
     "slide_type": "slide"
    }
   },
   "source": [
    "# Optional Exercise 2\n",
    "\n",
    "* You may abel to modify and update the teaching materials in a more appropriate way using an LLM or AI agent for next year's lecture.\n",
    "\n",
    "  * Please send me the link to your GitHub repository.\n",
    "  * If it's a good problem, I might use it and credit you by name."
   ]
  }
 ],
 "metadata": {
  "celltoolbar": "Slideshow",
  "kernelspec": {
   "display_name": "Python 3 (ipykernel)",
   "language": "python",
   "name": "python3"
  },
  "language_info": {
   "codemirror_mode": {
    "name": "ipython",
    "version": 3
   },
   "file_extension": ".py",
   "mimetype": "text/x-python",
   "name": "python",
   "nbconvert_exporter": "python",
   "pygments_lexer": "ipython3",
   "version": "3.10.10"
  }
 },
 "nbformat": 4,
 "nbformat_minor": 1
}
