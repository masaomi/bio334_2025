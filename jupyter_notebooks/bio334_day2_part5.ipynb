{
 "cells": [
  {
   "cell_type": "markdown",
   "metadata": {
    "slideshow": {
     "slide_type": "slide"
    }
   },
   "source": [
    "# Bio334 Practical Bioinformatics\n",
    "\n",
    "The 2nd module, 14-16, May, 2025\n",
    "\n",
    "## Masaomi Hatakeyama\n",
    "- GitHab https://github.com/masaomi/bio334_2025\n",
    "- TAs: Narjes Yousefi,  Kenji Yip Tong"
   ]
  },
  {
   "cell_type": "markdown",
   "metadata": {
    "slideshow": {
     "slide_type": "slide"
    }
   },
   "source": [
    "# Day2 Part5\n",
    "\n",
    "Batch process, module, and *A. kamchatica* homoeolog Tajima's D\n",
    "\n"
   ]
  },
  {
   "cell_type": "code",
   "execution_count": null,
   "metadata": {
    "scrolled": true,
    "slideshow": {
     "slide_type": "notes"
    }
   },
   "outputs": [],
   "source": [
    "import IPython.display\n",
    "IPython.display.Audio(\"voice/day2_part5.mp3\")"
   ]
  },
  {
   "cell_type": "markdown",
   "metadata": {
    "slideshow": {
     "slide_type": "notes"
    }
   },
   "source": [
    "As the final part today, I will give you another technique to improve reusability again, before introducing the exercise.\n",
    "\n",
    "But if you have not finished the Tajima's D implementation yet, please focus on and continue it.\n",
    "\n",
    "In the actual situation, normally, we calculate a lot of samples, not only one dataset of sequences. \n",
    "\n",
    "In such a situation, we have to use the same programming code many times for different datasets. You could imagine 100 times executions of the same programming code. \n",
    "\n",
    "There is a typical way to run 100 jobs at once. It is called the batch process. \n",
    "\n",
    "I will show you two examples to do the batch process here. The first example uses a shell script, another example uses a Python script.</prosody>\n"
   ]
  },
  {
   "cell_type": "markdown",
   "metadata": {
    "slideshow": {
     "slide_type": "slide"
    }
   },
   "source": [
    "# Why programming?\n",
    "\n",
    "* **Reusability**: Reproducibility, you can calculate with just one command type again\n",
    "* **Batch process**: Automation, computer can work while you are sleeping\n",
    "* **Understanding**: It helps you to learn algorithms\n",
    "* **Computer simulation**: testing many possible conditions/assumptions\n",
    "\n",
    "\n"
   ]
  },
  {
   "cell_type": "markdown",
   "metadata": {
    "slideshow": {
     "slide_type": "fragment"
    }
   },
   "source": [
    "You will learn what the batch process is in this part\n",
    "\n"
   ]
  },
  {
   "cell_type": "markdown",
   "metadata": {
    "slideshow": {
     "slide_type": "slide"
    }
   },
   "source": [
    "# Batch process (Shell script)\n",
    "\n",
    "        #!/bin/sh\n",
    "        python script.py job1\n",
    "        python script.py job2\n",
    "        python script.py job3\n",
    "\n",
    "* Executing several jobs sequentially\n",
    "\n"
   ]
  },
  {
   "cell_type": "code",
   "execution_count": null,
   "metadata": {
    "scrolled": true,
    "slideshow": {
     "slide_type": "notes"
    }
   },
   "outputs": [],
   "source": [
    "IPython.display.Audio(\"voice/shell_script.mp3\")"
   ]
  },
  {
   "cell_type": "markdown",
   "metadata": {
    "slideshow": {
     "slide_type": "notes"
    }
   },
   "source": [
    "The first example is using a shell script to run three different jobs but it uses the same Python script. \n",
    "\n",
    "In other words, once you make a shell script, a lot of Python jobs can run at once.\n",
    "\n",
    "The difference in each job is the input FASTA file.\n"
   ]
  },
  {
   "cell_type": "markdown",
   "metadata": {
    "slideshow": {
     "slide_type": "subslide"
    }
   },
   "source": [
    "# Example1\n",
    "\n",
    "batch shell script\n",
    "\n",
    "      $ cat day2_5_example1.sh\n",
    "      python day2_1_exercise1.py athal_chr1.fa\n",
    "      python day2_1_exercise1.py athal_chr2.fa\n",
    "      python day2_1_exercise1.py athal_chr3.fa\n",
    "\n"
   ]
  },
  {
   "cell_type": "markdown",
   "metadata": {
    "slideshow": {
     "slide_type": "subslide"
    }
   },
   "source": [
    "Execution example\n",
    "\n",
    "      $ sh day2_5_example1.sh\n",
    "      genome size = 30427671 bp\n",
    "      genome size = 19698289 bp\n",
    "      genome size = 23459830 bp\n",
    "\n"
   ]
  },
  {
   "cell_type": "code",
   "execution_count": null,
   "metadata": {
    "scrolled": true,
    "slideshow": {
     "slide_type": "notes"
    }
   },
   "outputs": [],
   "source": [
    "IPython.display.Audio(\"voice/python_batch_script.mp3\")"
   ]
  },
  {
   "cell_type": "markdown",
   "metadata": {
    "slideshow": {
     "slide_type": "notes"
    }
   },
   "source": [
    "The second example is using a Python script to do the same thing as the first example. \n",
    "\n",
    "In order to execute a Python script in another Python script, you can use *os.system()* method. \n",
    "\n",
    "This method can call an external Unix command in a Python script.\n"
   ]
  },
  {
   "cell_type": "markdown",
   "metadata": {
    "slideshow": {
     "slide_type": "slide"
    }
   },
   "source": [
    "# Example2 \n",
    "\n",
    "batch python script\n",
    "```\n",
    "$ cat day2_5_example2.py\n",
    "import glob\n",
    "import os\n",
    "for file in glob.glob(\"athal_chr*.fa\"):\n",
    "  command = \"python3 day2_1_exercise1.py \" + file\n",
    "  os.system(command)\n",
    "```\n"
   ]
  },
  {
   "cell_type": "markdown",
   "metadata": {
    "slideshow": {
     "slide_type": "subslide"
    }
   },
   "source": [
    "Execution\n",
    "\n",
    "      $ python3 day2_5_example2.py\n",
    "      genome size = 30427671 bp\n",
    "      genome size = 19698289 bp\n",
    "      genome size = 23459830 bp\n",
    "\n"
   ]
  },
  {
   "cell_type": "markdown",
   "metadata": {
    "slideshow": {
     "slide_type": "slide"
    }
   },
   "source": [
    "# *os* module \n",
    "\n",
    "* Execute an external command (in a Python script)\n",
    "\n",
    "        import os\n",
    "        os.system(\"pwd\")\n",
    "\n"
   ]
  },
  {
   "cell_type": "markdown",
   "metadata": {
    "slideshow": {
     "slide_type": "slide"
    }
   },
   "source": [
    "# *glob* module\n",
    "\n",
    "Get a file path (matching a pattern)\n",
    "```\n",
    "import glob\n",
    "glob.glob(\"dir/*.fa\")  \n",
    "```\n",
    "returns a List object that has all fasta file paths in directory\n"
   ]
  },
  {
   "cell_type": "markdown",
   "metadata": {
    "slideshow": {
     "slide_type": "slide"
    }
   },
   "source": [
    "# Mini-Summary\n",
    "\n",
    "* **Batch process**: several jobs (commands) run at once\n",
    "* The simplest way is to use a shell script\n",
    "* It can be done also in a Python script\n",
    "\n",
    "which means that it is possible to call a Python script in another Python script\n",
    "\n"
   ]
  },
  {
   "cell_type": "code",
   "execution_count": null,
   "metadata": {
    "scrolled": true,
    "slideshow": {
     "slide_type": "notes"
    }
   },
   "outputs": [],
   "source": [
    "IPython.display.Audio(\"voice/exercise_day2_part5.mp3\")"
   ]
  },
  {
   "cell_type": "markdown",
   "metadata": {
    "slideshow": {
     "slide_type": "notes"
    }
   },
   "source": [
    "I will explain the final exercise today.\n",
    "\n",
    "It is the real data published in 2016. The target species is *Arabidopsis kamchatica*. *Arabidopsis kamchatica* is an allotetraploid species that is polyploidized from *Arabidopsis halleri*, diploid, and *Arabidopsis lyrata*, diploid. \n",
    "\n",
    "So, *Arabidopsis kamchatica* has two homologous gene sets derived from different species. Such a gene is called **homeolog**.\n",
    "\n",
    "*Arabidopsis halleri* is called hyperaccumulator and it can live in a highly toxic heavy metal environment such as mine, while *Arabidopsis lyrata* cannot live in such a heavy metal environment.\n",
    "\n",
    "We investigated the nucleotide diversity around HMA4 gene, heavy metal ATP-ase4, in *Arabidopsis kamchatica*, particularly, compared the nucleotide diversity of the sub-genomes derived from *Arabidopsis halleri* and *lyrata*.\n",
    "\n",
    "Samples were collected mainly from Japan but including Alaska in the north, and Taiwan in the south.\n",
    "\n",
    "In this exercise, you calculate the nucleotide diversity of several genes around HMA4 gene in each subgenome. \n",
    "\n",
    "The gene sequences have been already aligned and saved in different files. So, you have to run several jobs using the same Python code.\n",
    "\n",
    "Please integrate and assemble all the knowledge that you have learned in this module, and solve the problem.\n"
   ]
  },
  {
   "cell_type": "markdown",
   "metadata": {
    "slideshow": {
     "slide_type": "slide"
    }
   },
   "source": [
    "# *Arabidopsis kamchatica* \n",
    "\n",
    "<center>\n",
    "    <img src=\"https://raw.githubusercontent.com/masaomi/bio334_2025/main/jupyter_notebooks/png/kamchatica1.png\" width=70%>\n",
    "</center>\n"
   ]
  },
  {
   "cell_type": "markdown",
   "metadata": {
    "slideshow": {
     "slide_type": "subslide"
    }
   },
   "source": [
    "# Samples\n",
    "\n",
    "<center>\n",
    "    <img src=\"https://raw.githubusercontent.com/masaomi/bio334_2025/main/jupyter_notebooks/png/samples.png\" width=60%>\n",
    "</center>\n",
    "\n"
   ]
  },
  {
   "cell_type": "markdown",
   "metadata": {
    "slideshow": {
     "slide_type": "subslide"
    }
   },
   "source": [
    "\n",
    "<center>\n",
    "    <img src=\"https://raw.githubusercontent.com/masaomi/bio334_2025/main/jupyter_notebooks/png/experiment.png\" width=70%>\n",
    "</center>\n",
    "\n"
   ]
  },
  {
   "cell_type": "markdown",
   "metadata": {
    "slideshow": {
     "slide_type": "subslide"
    }
   },
   "source": [
    "\n",
    "# Homoeolog\n",
    "\n",
    "Duplicated gene pair\n",
    "\n",
    "<center>\n",
    "    <img src=\"https://raw.githubusercontent.com/masaomi/bio334_2025/main/jupyter_notebooks/png/homoeolog.png\" width=70%>\n",
    "</center>\n",
    "\n"
   ]
  },
  {
   "cell_type": "markdown",
   "metadata": {
    "slideshow": {
     "slide_type": "subslide"
    }
   },
   "source": [
    "# Pipeline HomeoRoq\n",
    "\n",
    "![homeoroq](png/ngs_homeoroq.png)\n",
    "\n",
    "\n",
    "- http://seselab.org/homeoroq/\n",
    "- Note: HomeoRoq is obsolete. Now we switched to use [EAGLE-RC](https://github.com/tony-kuo/eagle)\n",
    "\n"
   ]
  },
  {
   "cell_type": "markdown",
   "metadata": {
    "slideshow": {
     "slide_type": "subslide"
    }
   },
   "source": [
    "\n",
    "<center>\n",
    "    <img src=\"https://raw.githubusercontent.com/masaomi/bio334_2025/main/jupyter_notebooks/png/kamchatica2.png\" width=60%>\n",
    "</center>\n",
    "\n",
    "\n",
    "- Reference: [Tim, Masa, et. al, MBE., 2016](https://academic.oup.com/mbe/article/33/11/2781/2271619/Conserved-but-Attenuated-Parental-Gene-Expression)"
   ]
  },
  {
   "cell_type": "markdown",
   "metadata": {
    "slideshow": {
     "slide_type": "notes"
    }
   },
   "source": [
    "# Appendix, module\n",
    "\n",
    "### Another tips to use an external python code\n",
    "\n",
    "You can call functions defined in an external Python file, which is called *module*.\n",
    "\n",
    "    my_module.py\n",
    "        def hello():\n",
    "            print(\"Hello, world\")\n",
    "        \n",
    "    main1.py\n",
    "        import my_module\n",
    "        my_module.hello()\n",
    "        \n",
    "    main2.py\n",
    "        import my_module as m       # you can rename the module\n",
    "        m.hello()\n",
    "\n",
    "    main3.py\n",
    "        from my_module import hello as gruezie # you can remane a function\n",
    "        gruezie()\n",
    "        \n",
    "\n",
    "    result\n",
    "        $ python main1.py\n",
    "        Hello, World\n",
    "\n",
    "        $ python main2.py\n",
    "        Hello, World\n",
    "        \n",
    "        $ python main3.py\n",
    "        Hello, World\n"
   ]
  }
 ],
 "metadata": {
  "celltoolbar": "Slideshow",
  "kernelspec": {
   "display_name": "Python 3 (ipykernel)",
   "language": "python",
   "name": "python3"
  },
  "language_info": {
   "codemirror_mode": {
    "name": "ipython",
    "version": 3
   },
   "file_extension": ".py",
   "mimetype": "text/x-python",
   "name": "python",
   "nbconvert_exporter": "python",
   "pygments_lexer": "ipython3",
   "version": "3.10.10"
  }
 },
 "nbformat": 4,
 "nbformat_minor": 1
}
