{
 "cells": [
  {
   "cell_type": "markdown",
   "metadata": {
    "slideshow": {
     "slide_type": "slide"
    }
   },
   "source": [
    "# Bio334 Practical Bioinformatics\n",
    "\n",
    "The 2nd module, 14-16, May, 2025\n",
    "\n",
    "## Masaomi Hatakeyama\n",
    "- GitHab https://github.com/masaomi/bio334_2025\n",
    "- TAs: Narjes Yousefi,  Kenji Yip Tong"
   ]
  },
  {
   "cell_type": "markdown",
   "metadata": {
    "slideshow": {
     "slide_type": "slide"
    }
   },
   "source": [
    "# Day2 Part2\n",
    "\n",
    "Function, Method\n",
    "\n"
   ]
  },
  {
   "cell_type": "code",
   "execution_count": null,
   "metadata": {
    "slideshow": {
     "slide_type": "notes"
    }
   },
   "outputs": [],
   "source": [
    "import IPython.display\n",
    "IPython.display.Audio(\"voice/day2_part2.mp3\")"
   ]
  },
  {
   "cell_type": "markdown",
   "metadata": {
    "slideshow": {
     "slide_type": "notes"
    }
   },
   "source": [
    "Let me introduce another technique to improve reusability. It is function.\n",
    "\n",
    "Function or method in computer programming is a block of code. \n",
    "\n",
    "The function has input and output. The input value is called an argument, and the output value is called the return value.\n",
    "\n",
    "Just please quickly review what you did yesterday and go to the explanation of the function.\n"
   ]
  },
  {
   "cell_type": "markdown",
   "metadata": {
    "slideshow": {
     "slide_type": "slide"
    }
   },
   "source": [
    "# Quick review \n",
    "\n",
    "1. Sequence (pairwise) comparison\n",
    "2. Combination list and double loop\n",
    "  * Triple loop for combination list + sequence comparison\n",
    "3. Nucleotide diversity formula\n",
    "\n"
   ]
  },
  {
   "cell_type": "markdown",
   "metadata": {
    "slideshow": {
     "slide_type": "slide"
    }
   },
   "source": [
    "# Nucleotide Diversity\n",
    "\n",
    "<img src=\"https://raw.githubusercontent.com/masaomi/bio334_2025/main/jupyter_notebooks/png/pi.png\" width=50%>\n",
    "\n",
    "- $d$: number of nucleotide differences'))\n",
    "- $n$: number of sequences\n",
    "- $l$: length of sequence\n",
    "\n"
   ]
  },
  {
   "cell_type": "markdown",
   "metadata": {
    "slideshow": {
     "slide_type": "skip"
    }
   },
   "source": [
    "# Nucleotide Diversity, Mean pairwise difference\n",
    "\n",
    "$\\Pi = \\frac{\\sum_{i<j}d_{ij}}{{}_n \\mathrm{C}_2}, \\pi = \\frac{\\sum_{i<j}d_{ij}}{{}_n \\mathrm{C}_2l}$\n",
    "\n",
    "- $\\Pi$: Mean pairwise difference\n",
    "- $\\pi$: nucleotide diversity\n",
    "\n"
   ]
  },
  {
   "cell_type": "markdown",
   "metadata": {
    "slideshow": {
     "slide_type": "slide"
    }
   },
   "source": [
    "# Algorithm \n",
    "\n",
    "General Flow\n",
    "\n",
    "1. load an aligned FASTA file \n",
    "2. **pairwise comparison of sequences**\n",
    "3. **count the number of different nucleotide**\n",
    "4. sum them up\n",
    "5. divide by the num of combination & seq length\n",
    "\n"
   ]
  },
  {
   "cell_type": "markdown",
   "metadata": {
    "slideshow": {
     "slide_type": "subslide"
    }
   },
   "source": [
    "# Break it down\n",
    "\n",
    "Pairwise comparison, double loop\n",
    "\n",
    "![nd](png/count_diff_loop.png)\n"
   ]
  },
  {
   "cell_type": "markdown",
   "metadata": {
    "slideshow": {
     "slide_type": "subslide"
    }
   },
   "source": [
    "# Combination\n",
    "\n",
    "Pairwise comparison, double loop\n",
    "\n",
    "    list = [seq1, seq2, seq3, seq4, seq5]  \n",
    "    for i in range(0, len(list)):       \n",
    "        for j in range(i+1, len(list)):  \n",
    "                print(list[i], list[j]) \n",
    "\n",
    "\n",
    "- Remember the exercise yesterday\n",
    "\n"
   ]
  },
  {
   "cell_type": "code",
   "execution_count": null,
   "metadata": {
    "slideshow": {
     "slide_type": "subslide"
    }
   },
   "outputs": [],
   "source": [
    "seq1 = \"seq1\"\n",
    "seq2 = \"seq2\"\n",
    "seq3 = \"seq3\"\n",
    "seq4 = \"seq4\"\n",
    "seq5 = \"seq5\"\n",
    "\n",
    "lst = [seq1, seq2, seq3, seq4, seq5]  \n",
    "for i in range(0, len(lst)):       \n",
    "    for j in range(i+1, len(lst)):  \n",
    "        print(lst[i], lst[j]) \n"
   ]
  },
  {
   "cell_type": "markdown",
   "metadata": {
    "slideshow": {
     "slide_type": "slide"
    }
   },
   "source": [
    "# Break it down\n",
    "\n",
    "Count the number of different nucleotide at the same position\n",
    "\n",
    "1. Focusing on only two sequences\n",
    "2. Compare nucleotide in each position\n",
    "3. If they are different, count it up\n",
    "\n"
   ]
  },
  {
   "cell_type": "markdown",
   "metadata": {
    "slideshow": {
     "slide_type": "subslide"
    }
   },
   "source": [
    "# Compare two sequences\n",
    "\n",
    "for + if\n",
    "\n",
    "![compare](png/compare.png)\n",
    "\n"
   ]
  },
  {
   "cell_type": "markdown",
   "metadata": {
    "slideshow": {
     "slide_type": "subslide"
    }
   },
   "source": [
    "# Compare two sequences (for + if)\n",
    "\n",
    "    seq1 = \"ATGC\"\n",
    "    seq2 = \"ATAT\"\n",
    "    same = 0; diff = 0;\n",
    "    for i in range(0, len(seq1)):\n",
    "        if seq1[i] == seq2[i]:\n",
    "            same += 1        \n",
    "        else:               \n",
    "            diff += 1      \n"
   ]
  },
  {
   "cell_type": "code",
   "execution_count": null,
   "metadata": {
    "slideshow": {
     "slide_type": "subslide"
    }
   },
   "outputs": [],
   "source": [
    "seq1 = \"ATGC\"\n",
    "seq2 = \"ATAT\"\n",
    "same = 0; diff = 0;\n",
    "for i in range(0, len(seq1)):\n",
    "    if seq1[i] == seq2[i]:\n",
    "        same += 1        \n",
    "    else:               \n",
    "        diff += 1      \n",
    "print(diff)"
   ]
  },
  {
   "cell_type": "code",
   "execution_count": null,
   "metadata": {
    "slideshow": {
     "slide_type": "subslide"
    }
   },
   "outputs": [],
   "source": [
    "# Compare two sequences\n",
    "# without loop\n",
    "\n",
    "seq1 = \"ATGC\"\n",
    "seq2 = \"ATAT\"\n",
    "same = 0\n",
    "if seq1[0] == seq2[0]:\n",
    "    same += 1\n",
    "if seq1[1] == seq2[1]:\n",
    "    same += 1\n",
    "if seq1[2] == seq2[2]:\n",
    "    same += 1\n",
    "if seq1[3] == seq2[3]:\n",
    "    same += 1\n",
    "\n",
    "print(same)\n"
   ]
  },
  {
   "cell_type": "markdown",
   "metadata": {
    "slideshow": {
     "slide_type": "slide"
    }
   },
   "source": [
    "# Core part, Nucleotide diversity\n",
    "\n",
    "        seqs = [seq1, seq2, seq3] \n",
    "        total_diff = 0\n",
    "        for i in range(0, len(seqs)):\n",
    "            for j in range(i+1, len(seqs)):\n",
    "                for k in range(0, len(seqs[i])):\n",
    "                    if not seqs[i][k] == seqs[j][k]:\n",
    "                        total_diff += 1 \n",
    "\n"
   ]
  },
  {
   "cell_type": "code",
   "execution_count": null,
   "metadata": {
    "slideshow": {
     "slide_type": "subslide"
    }
   },
   "outputs": [],
   "source": [
    "seq1 = \"ATGC\"\n",
    "seq2 = \"ATAT\"\n",
    "seq3 = \"ATGT\"\n",
    "\n",
    "seqs = [seq1, seq2, seq3] \n",
    "total_diff = 0\n",
    "for i in range(0, len(seqs)):\n",
    "    for j in range(i+1, len(seqs)):\n",
    "        for k in range(0, len(seqs[i])):\n",
    "            if not seqs[i][k] == seqs[j][k]:\n",
    "                total_diff += 1 \n",
    "print(total_diff)        "
   ]
  },
  {
   "cell_type": "markdown",
   "metadata": {
    "slideshow": {
     "slide_type": "slide"
    }
   },
   "source": [
    "# based on these things..."
   ]
  },
  {
   "cell_type": "markdown",
   "metadata": {
    "slideshow": {
     "slide_type": "slide"
    }
   },
   "source": [
    "# Define a function\n",
    "\n",
    "    def <function name>(<arguments>):\n",
    "        # process\n",
    "        return <return value>\n",
    "\n",
    "* **Function** is a small block of processes\n",
    "    * You can generalize a process\n",
    "    * You can separate *data (variable)* and *process*\n",
    "* **Argument** is input and **return value** is output of function\n",
    "\n"
   ]
  },
  {
   "cell_type": "code",
   "execution_count": null,
   "metadata": {
    "slideshow": {
     "slide_type": "notes"
    }
   },
   "outputs": [],
   "source": [
    "IPython.display.Audio(\"voice/function.mp3\")"
   ]
  },
  {
   "cell_type": "markdown",
   "metadata": {
    "slideshow": {
     "slide_type": "notes"
    }
   },
   "source": [
    "When you use a function, you have to define the function before calling it. \n",
    "\n",
    "When you define a function, you need the *def* keyword and its function name. If you need some arguments, you can put it as a variable in round brackets.\n",
    "\n",
    "The process needs indentation and the *return* keyword sets the result of the process, which becomes the return value.  You can omit the return value.\n",
    "\n",
    "You can see three examples below. The first example has no argument and no return value.\n",
    "\n",
    "The second example has an argument but no return value.\n",
    "\n",
    "The final example has both an argument and a return value.\n",
    "\n",
    "Please look at carefully both fucntion definion and function calling, how to call the function.\n"
   ]
  },
  {
   "cell_type": "code",
   "execution_count": null,
   "metadata": {
    "slideshow": {
     "slide_type": "subslide"
    }
   },
   "outputs": [],
   "source": [
    "# Example1\n",
    "# Without an argument and return value\n",
    "\n",
    "def hello():        \n",
    "    print(\"hello, world!!\")\n",
    "    \n",
    "hello()"
   ]
  },
  {
   "cell_type": "code",
   "execution_count": null,
   "metadata": {
    "slideshow": {
     "slide_type": "subslide"
    }
   },
   "outputs": [],
   "source": [
    "# Example2\n",
    "# With an argument and without return value\n",
    "\n",
    "def hello(word):\n",
    "    print(\"hello,\", word)\n",
    "\n",
    "hello(\"python!!\")\n",
    "\n"
   ]
  },
  {
   "cell_type": "code",
   "execution_count": null,
   "metadata": {
    "slideshow": {
     "slide_type": "subslide"
    }
   },
   "outputs": [],
   "source": [
    "# Example3\n",
    "# With an argument and return value\n",
    "\n",
    "def hello(word):\n",
    "    sentence = \"hello, %s!!\" % word\n",
    "    return sentence\n",
    "\n",
    "\n",
    "x = hello(\"bio334\")\n",
    "print(x)\n",
    "\n"
   ]
  },
  {
   "cell_type": "markdown",
   "metadata": {
    "slideshow": {
     "slide_type": "slide"
    }
   },
   "source": [
    "# Core part, Nucleotide diversity\n",
    "\n",
    "        seqs = [seq1, seq2, seq3] \n",
    "        total_diff = 0\n",
    "        for i in range(0, len(seqs)):\n",
    "            for j in range(i+1, len(seqs)):\n",
    "                for k in range(0, len(seqs[i])):\n",
    "                    if not seqs[i][k] == seqs[j][k]:\n",
    "                        total_diff += 1 \n",
    "\n",
    "Q: How do you design a function?\n",
    "\n"
   ]
  },
  {
   "cell_type": "markdown",
   "metadata": {
    "slideshow": {
     "slide_type": "slide"
    }
   },
   "source": [
    "# Mini-Summary\n",
    "\n",
    "* Function is a block of code\n",
    "* Define a function before calling the function\n",
    "* A funciton can have **argument(s)** and **return value**\n",
    "* A function makes the code more strucutred and human readable\n",
    "\n"
   ]
  },
  {
   "cell_type": "code",
   "execution_count": null,
   "metadata": {
    "slideshow": {
     "slide_type": "notes"
    }
   },
   "outputs": [],
   "source": [
    "IPython.display.Audio(\"voice/summary_day2_part2.mp3\")"
   ]
  },
  {
   "cell_type": "markdown",
   "metadata": {
    "slideshow": {
     "slide_type": "notes"
    }
   },
   "source": [
    "Now let's think about how you can define a function, a block of code.\n",
    "\n",
    "It is actually the generalization of the process. \n",
    "\n",
    "I just give you some hints here. \n",
    "\n",
    "There are some solutions. You can define any block of code as a function, but there are some tips or criteria to define a function.\n",
    "\n",
    "For example.\n",
    "\n",
    "* If you do copy and paste more than twice, that it can be a function.\n",
    "* If you think of a lot of comments, it must be a function.\n",
    "* If you see more than twice nested loop, it can be a function.\n",
    "* If your code becomes longer than 100 lines or more than one screen, it would be better to define a function even if the function is called only once.\n",
    "\n",
    "These are just my recommendations, and you do not have to do so, but just please keep in mind as a hint, and let's go on to the exercise.\n"
   ]
  },
  {
   "cell_type": "markdown",
   "metadata": {
    "slideshow": {
     "slide_type": "slide"
    }
   },
   "source": [
    "# How should we design a function?\n",
    "\n",
    "generalization, *it is a sign to make a function if you notice the followings...*\n",
    "\n",
    "* **Reusable**: If you do copy&paste more than twice\n",
    "* **Break down**: If you need many comments\n",
    "* **Nested loops**: If you need more than triple nested loops\n",
    "* **Long spaghetti**: If your code becomes more than 100 line (one screen)\n"
   ]
  }
 ],
 "metadata": {
  "celltoolbar": "Slideshow",
  "kernelspec": {
   "display_name": "Python 3 (ipykernel)",
   "language": "python",
   "name": "python3"
  },
  "language_info": {
   "codemirror_mode": {
    "name": "ipython",
    "version": 3
   },
   "file_extension": ".py",
   "mimetype": "text/x-python",
   "name": "python",
   "nbconvert_exporter": "python",
   "pygments_lexer": "ipython3",
   "version": "3.10.10"
  }
 },
 "nbformat": 4,
 "nbformat_minor": 1
}
